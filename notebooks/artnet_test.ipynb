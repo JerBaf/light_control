{
 "cells": [
  {
   "cell_type": "markdown",
   "id": "86251cfc-2ab3-4e47-b0e2-babf98b90511",
   "metadata": {},
   "source": [
    "# Artnet Tests"
   ]
  },
  {
   "cell_type": "markdown",
   "id": "21f00206-7bec-4caa-bfa0-1c77b6f8bcde",
   "metadata": {},
   "source": [
    "### Packages"
   ]
  },
  {
   "cell_type": "code",
   "execution_count": 7,
   "id": "f908ed70-c69a-40e5-b7ab-fc293d06ef12",
   "metadata": {},
   "outputs": [],
   "source": [
    "import asyncio\n",
    "import argparse\n",
    "from PIL import ImageColor\n",
    "from pyartnet import ArtNetNode\n",
    "from pyartnet.base import universe as Universe\n",
    "from pyartnet.base import channel as Channel"
   ]
  },
  {
   "cell_type": "markdown",
   "id": "822494cc-9c86-48fd-9db4-4701b5d9fa2c",
   "metadata": {},
   "source": [
    "### Constants"
   ]
  },
  {
   "cell_type": "code",
   "execution_count": 2,
   "id": "1d9ba08f-eea2-4e17-b7c8-d4a411ed61d7",
   "metadata": {},
   "outputs": [],
   "source": [
    "# Setup Constants\n",
    "DEFAULT_PORT = 6454\n",
    "DEFAULT_UNIVERSE_ID = 1\n",
    "DEFAULT_CHANNEL_START_ID = 1\n",
    "DEFAULT_CHANNEL_WIDTH = 11\n",
    "# Control Constants\n",
    "DIMMER_ID = 0\n",
    "DIMMER_FINE_ID = 1\n",
    "STROBE_ID = 2\n",
    "RED_ID = 3\n",
    "GREEN_ID = 4\n",
    "BLUE_ID = 5\n",
    "WHITE_ID = 6\n",
    "AMBER_ID = 7\n",
    "UV_ID = 8\n",
    "PRESET_ID = 9\n",
    "SOUND_ID = 10\n",
    "DEFAULT_LIGHT_VALUE = [255,255]+[0]*(DEFAULT_CHANNEL_WIDTH-2)\n",
    "RESET_VALUE = [0]*DEFAULT_CHANNEL_WIDTH\n",
    "# Mappings\n",
    "FIXTURE_TO_ID_DICT = {'Dimmer':DIMMER_ID,'Dimmer_Fine':DIMMER_FINE_ID,\n",
    "                    'Strobe':STROBE_ID,'Red':RED_ID,'Green':GREEN_ID,\n",
    "                    'Blue':BLUE_ID,'White':WHITE_ID,'Amber':AMBER_ID,\n",
    "                    'UV':UV_ID,'Preset':PRESET_ID,'Sound':SOUND_ID}\n",
    "ID_TO_FIXTURE_DICT = dict([(i,fixture) for fixture,i in FIXTURE_TO_ID_DICT.items()])"
   ]
  },
  {
   "cell_type": "markdown",
   "id": "316297d5-d90d-44d7-927e-ad24deb5995d",
   "metadata": {
    "jp-MarkdownHeadingCollapsed": true
   },
   "source": [
    "### Code"
   ]
  },
  {
   "cell_type": "markdown",
   "id": "0d7dcc22-7335-40e8-9e2e-fef3814e2da6",
   "metadata": {
    "jp-MarkdownHeadingCollapsed": true
   },
   "source": [
    "#### Helpers"
   ]
  },
  {
   "cell_type": "code",
   "execution_count": 7,
   "id": "ed616ff4-56a1-4d0a-aeec-355c539a8c2c",
   "metadata": {},
   "outputs": [],
   "source": [
    "def init_channels(ip:str,channel_list:list,port=DEFAULT_PORT,\n",
    "                  universe_id=DEFAULT_UNIVERSE_ID,\n",
    "                  channel_start_id=DEFAULT_CHANNEL_START_ID,\n",
    "                  channel_width=DEFAULT_CHANNEL_WIDTH) -> tuple:\n",
    "    \"\"\"\n",
    "    Create the connection and channels with the given parameters\n",
    "    and turn all lights off.\n",
    "\n",
    "    :param ip: String encoding of device IP.\n",
    "    :param channel_list: Ordered list containing the names of the channel to be created.\n",
    "    :param port: Destination port for communication. (int, default=DEFAULT_PORT).\n",
    "    :param universe_id: Id of the universe of the setup. (int, default=DEFAULT_UNIVERSE_ID).\n",
    "    :param channel_start_id: Channel start id. (int, default=DEFAULT_CHANNEL_START_ID).\n",
    "    :param channel_width: Channel width. (int, default=DEFAULT_CHANNEL_WIDTH).\n",
    "\n",
    "    :return: Tuple of dictionnaries containing the channel and their states.\n",
    "    \n",
    "    \"\"\"\n",
    "    # Init connections\n",
    "    node, universe = create_connection(ip,port=port,universe_id=universe_id)\n",
    "    # Init Channels\n",
    "    channel_dict = dict()\n",
    "    state_dict = dict()\n",
    "    for idx, channel_name in enumerate(channel_list):\n",
    "        create_channel(universe,channel_dict,channel_name,\n",
    "                       channel_start_id+channel_width*idx,\n",
    "                       channel_width)\n",
    "        turn_off_channel(channel_dict,channel_name)\n",
    "        state_dict[channel_name] = DEFAULT_LIGHT_VALUE.copy()\n",
    "    return channel_dict, state_dict\n",
    "    \n",
    "    \n",
    "\n",
    "def create_connection(ip:str,port=DEFAULT_PORT,universe_id=DEFAULT_UNIVERSE_ID) -> tuple:\n",
    "    \"\"\"\n",
    "    Create instance of ArtNetNode and assign universe id.\n",
    "\n",
    "    :param ip: String encoding of device IP.\n",
    "    :param port: Destination port for communication. (int, default=DEFAULT_PORT).\n",
    "    :param universe_id: Id of the universe of the setup. (int, default=DEFAULT_UNIVERSE_ID).\n",
    "\n",
    "    :return: Tuple in the form (node, universe).\n",
    "    \n",
    "    \"\"\"\n",
    "    node = ArtNetNode(ip,port)\n",
    "    universe = node.add_universe(universe_id)\n",
    "    return node, universe\n",
    "\n",
    "def create_channel(universe:Universe, channel_dict:dict,\n",
    "                   channel_name:str,channel_start_id=DEFAULT_CHANNEL_START_ID,\n",
    "                   channel_width=DEFAULT_CHANNEL_WIDTH): \n",
    "    \"\"\"\n",
    "    Create channel in the given universe of size\n",
    "    'channel_width' and starting at 'channel_start'.\n",
    "    Then add it in the dictionnary of all channels for\n",
    "    the universe.\n",
    "\n",
    "    :param universe: ArtNet Universe object in which the channel should be created.\n",
    "    :param channel_dict: Dictionnary with all the channels for the universe.\n",
    "    :param channel_name: String to be used as key in the channel dictionnary.\n",
    "    :param channel_start_id: Channel start id. (int, default=DEFAULT_CHANNEL_START_ID).\n",
    "    :param channel_width: Channel width. (int, default=DEFAULT_CHANNEL_WIDTH).\n",
    "\n",
    "    :return: ArtNet Channel with the given specifications.\n",
    "    \n",
    "    \"\"\"\n",
    "    if channel_start_id < 1 or channel_width < 1 :\n",
    "        raise ValueError('The channel start id and channel width should be greater or equal than 1')\n",
    "    channel = universe.add_channel(start=channel_start_id, width=channel_width)\n",
    "    channel_dict[channel_name] = channel\n",
    "\n",
    "def send_rgb(channel_dict:dict, channel_name:str,\n",
    "             values:list, state_dict:dict):\n",
    "    \"\"\"\n",
    "    Send RGB data to the channel, while keeping other parameters fixed.\n",
    "\n",
    "    :param channel_dict: Dictionnary with all the channels for the universe.\n",
    "    :param channel_name: Name of the channel to which the signal should be transmitted.\n",
    "    :param values: List of RGB values in format: [red_value, green_value, blue_value].\n",
    "                   The values of each color should be contained in [0,255].\n",
    "    :param state_dict: Dictionnary with the DMX states of all channels.\n",
    "    \n",
    "    \"\"\"\n",
    "    if len(values) != 3:\n",
    "        raise ValueError('The list of values should be of length 3')\n",
    "    current_state = state_dict[channel_name]\n",
    "    new_state = current_state.copy()\n",
    "    new_state[RED_ID:BLUE_ID+1] = values\n",
    "    state_dict[channel_name] = new_state\n",
    "    channel = channel_dict[channel_name]\n",
    "    channel.set_values(new_state)\n",
    "\n",
    "def send_amber(channel_dict:dict, channel_name:str,\n",
    "             value:int, state_dict:dict):\n",
    "    \"\"\"\n",
    "    Send RGB data to the channel, while keeping other parameters fixed.\n",
    "\n",
    "    :param channel_dict: Dictionnary with all the channels for the universe.\n",
    "    :param channel_name: Name of the channel to which the signal should be transmitted.\n",
    "    :param value: The value to which should be set the amber channel.\n",
    "                   The value should be contained in [0,255].\n",
    "    :param state_dict: Dictionnary with the DMX states of all channels.\n",
    "    \n",
    "    \"\"\"\n",
    "    current_state = state_dict[channel_name]\n",
    "    new_state = current_state.copy()\n",
    "    new_state[AMBER_ID] = value\n",
    "    state_dict[channel_name] = new_state\n",
    "    channel = channel_dict[channel_name]\n",
    "    channel.set_values(new_state)\n",
    "\n",
    "def send_uv(channel_dict:dict, channel_name:str,\n",
    "             value:int, state_dict:dict):\n",
    "    \"\"\"\n",
    "    Send RGB data to the channel, while keeping other parameters fixed.\n",
    "\n",
    "    :param channel_dict: Dictionnary with all the channels for the universe.\n",
    "    :param channel_name: Name of the channel to which the signal should be transmitted.\n",
    "    :param value: The value to which should be set the amber channel.\n",
    "                   The value should be contained in [0,255].\n",
    "    :param state_dict: Dictionnary with the DMX states of all channels.\n",
    "    \n",
    "    \"\"\"\n",
    "    current_state = state_dict[channel_name]\n",
    "    new_state = current_state.copy()\n",
    "    new_state[UV_ID] = value\n",
    "    state_dict[channel_name] = new_state\n",
    "    channel = channel_dict[channel_name]\n",
    "    channel.set_values(new_state)\n",
    "\n",
    "def turn_off_channel(channel_dict:dict, channel_name:str):\n",
    "    \"\"\"\n",
    "    Turn off the lights of the given channel by setting all values to zero.\n",
    "\n",
    "    :param channel_dict: Dictionnary with all the channels for the universe.\n",
    "    :param channel_name: Name of the channel to which the signal should be transmitted.\n",
    "    \n",
    "    \"\"\"\n",
    "    channel_dict[channel_name].set_values(LIGHT_OFF_VALUE)"
   ]
  },
  {
   "cell_type": "markdown",
   "id": "4ff6255e-aa06-4b14-a9db-2a419c239aab",
   "metadata": {
    "jp-MarkdownHeadingCollapsed": true
   },
   "source": [
    "#### Objects"
   ]
  },
  {
   "cell_type": "code",
   "execution_count": 13,
   "id": "ae9c1e9c-e071-4c60-a482-fc8f833bb51e",
   "metadata": {},
   "outputs": [],
   "source": [
    "class Light:\n",
    "    \"\"\"\n",
    "    Light object class. A light is model by the channel to which\n",
    "    it is linked and a state. The latter is a list containing the \n",
    "    values for each of the fixture in the channel. \n",
    "    \n",
    "    \"\"\"\n",
    "    \n",
    "    def __init__(self, name:str, channel:Channel):\n",
    "        \"\"\"\n",
    "        Create a Light instance.\n",
    "\n",
    "        :param name: String identifier for the light. If the light is used in a Group,\n",
    "                     please be sure to enter unique identifiers.\n",
    "        :param channel: ArtNet channel object to which the light is bound. \n",
    "\n",
    "        \"\"\"\n",
    "        self.name = name\n",
    "        self.channel = channel\n",
    "        self.state = DEFAULT_LIGHT_VALUE.copy()\n",
    "\n",
    "    def reset(self):\n",
    "        \"\"\"\n",
    "        Reset the light to its default state, i.e. zero value for each fixture.\n",
    "        \"\"\"\n",
    "        new_state = DEFAULT_LIGHT_VALUE\n",
    "        self.channel.set_values(new_state)\n",
    "        self.state = new_state\n",
    "\n",
    "    def set_fixture_value(self, fixture_id:int, value:int):\n",
    "        \"\"\"\n",
    "        Set the fixture to the given value.\n",
    "\n",
    "        :param fixture_id: Id of the fixture to be set.\n",
    "        :param value: Integer value of the fixture, should be contained in [0,255].\n",
    "        \n",
    "        \"\"\"\n",
    "        if value < 0 or value > 255:\n",
    "            raise ValueError(f'The value for {ID_TO_FIXTURE_DICT[fixture_id]} should be contained in [0,255]')\n",
    "        new_state = self.state.copy()\n",
    "        new_state[fixture_id] = value\n",
    "        self.channel.set_values(new_state)\n",
    "        self.state = new_state\n",
    "\n",
    "    def turn_off(self):\n",
    "        \"\"\"\n",
    "        Turn off the light by setting dimmer to 0.\n",
    "        \"\"\"\n",
    "        self.set_fixture_value(DIMMER_ID,0)\n",
    "    \n",
    "    def set_rgb(self, values:list):\n",
    "        \"\"\"\n",
    "        Set the RGB fixtures to the color code given in values.\n",
    "\n",
    "        :param values: List containing the values for the red, green and blue fixtures.\n",
    "        \n",
    "        \"\"\"\n",
    "        for idx, fixture_id in enumerate([RED_ID,GREEN_ID,BLUE_ID]):\n",
    "            self.set_fixture_value(fixture_id,values[idx])"
   ]
  },
  {
   "cell_type": "code",
   "execution_count": 24,
   "id": "f8b085a3-99dd-4787-af2e-9aa8504d0684",
   "metadata": {},
   "outputs": [],
   "source": [
    "class Group:\n",
    "    \"\"\"\n",
    "    Group object class. A group is modeled by a list\n",
    "    of lights and a name. Every action applied to the group\n",
    "    will be executed on all lights present. Each light in the \n",
    "    group should be unique and have a unique name.\n",
    "    \n",
    "    \"\"\"\n",
    "\n",
    "    def __init__(self, name:str, lights=[]):\n",
    "        \"\"\"\n",
    "        Create a Group instance.\n",
    "\n",
    "        :param name: String identifier for the group of lights.\n",
    "        :param lights: List containing the initial lights of the group,\n",
    "                       empty by default. All lights should be unique.\n",
    "        \n",
    "        \"\"\"\n",
    "        self.name = name\n",
    "        self.lights = lights\n",
    "        self.light_names = list(set([l.name for l in lights]))\n",
    "        if len(self.light_names) != len(self.lights):\n",
    "            raise ValueError('Duplicate names in the list of lights provided to the Group constructor')\n",
    "    \n",
    "    def add_light(self,light):\n",
    "        \"\"\"\n",
    "        Add a light to the existing pool. Must be a new unique light.\n",
    "\n",
    "        :param light. Light object to add to the existing pool of lights in the group.\n",
    "        \n",
    "        \"\"\"\n",
    "        if light.name in self.light_name:\n",
    "            raise ValueError('Tried to add a light whose name is already present in the group')\n",
    "        self.lights.append(light)\n",
    "        \n",
    "    def reset(self):\n",
    "        \"\"\"\n",
    "        Reset all lights in the group to their default states, i.e. zero value for each fixture.\n",
    "        \"\"\"\n",
    "        for l in self.lights:\n",
    "            l.reset()\n",
    "\n",
    "    def set_fixture_value(self, fixture_id:int, value:int):\n",
    "        \"\"\"\n",
    "        Set the given fixture to 'value' for all lights in the group.\n",
    "\n",
    "        :param fixture_id: Id of the fixture to be set.\n",
    "        :param value: Integer value of the fixture, should be contained in [0,255].\n",
    "        \n",
    "        \"\"\"\n",
    "        for l in self.lights:\n",
    "            l.set_fixture_value(fixture_id,value)\n",
    "\n",
    "    def turn_off(self):\n",
    "        \"\"\"\n",
    "        Turn off all lights in the group by setting dimmer to 0.\n",
    "        \"\"\"\n",
    "        for l in self.lights:\n",
    "            l.turn_off()\n",
    "    \n",
    "    def set_rgb(self, values:list):\n",
    "        \"\"\"\n",
    "        Set the RGB fixtures to the color code given in values for all lights in the group.\n",
    "\n",
    "        :param values: List containing the values for the red, green and blue fixtures.\n",
    "        \n",
    "        \"\"\"\n",
    "        for l in self.lights:\n",
    "            l.set_rgb(values)"
   ]
  },
  {
   "cell_type": "markdown",
   "id": "5fe62292-40ce-4b9a-955d-ca4cfc4ed709",
   "metadata": {
    "jp-MarkdownHeadingCollapsed": true
   },
   "source": [
    "### Artnet"
   ]
  },
  {
   "cell_type": "code",
   "execution_count": 4,
   "id": "6fec4923-03e8-4f82-b4c0-6d693e7e28ba",
   "metadata": {},
   "outputs": [],
   "source": [
    "channel_dict, state_dict = init_channels('169.254.79.148',['main','ambiance'])"
   ]
  },
  {
   "cell_type": "code",
   "execution_count": 12,
   "id": "9697b60a-b06a-468e-9b88-09f3223adfeb",
   "metadata": {},
   "outputs": [],
   "source": [
    "send_rgb(channel_dict,'main',[40,0,5],state_dict)"
   ]
  },
  {
   "cell_type": "code",
   "execution_count": 7,
   "id": "0017e5bd-e757-4207-bf60-26809d78e23a",
   "metadata": {},
   "outputs": [],
   "source": [
    "send_rgb(channel_dict,'ambiance',[100,0,255],state_dict)"
   ]
  },
  {
   "cell_type": "code",
   "execution_count": 8,
   "id": "67310353-ab36-4c17-8301-1975c6040967",
   "metadata": {},
   "outputs": [],
   "source": [
    "send_amber(channel_dict,'main',0,state_dict)"
   ]
  },
  {
   "cell_type": "code",
   "execution_count": 9,
   "id": "a376c1a7-098e-4fff-a3b5-c702a44ed4b5",
   "metadata": {},
   "outputs": [],
   "source": [
    "send_uv(channel_dict,'main',255,state_dict)"
   ]
  },
  {
   "cell_type": "code",
   "execution_count": 20,
   "id": "9d292648-b697-4df8-a1bd-13de2f33eafd",
   "metadata": {},
   "outputs": [],
   "source": [
    "send_amber(channel_dict,'ambiance',255,state_dict)"
   ]
  },
  {
   "cell_type": "markdown",
   "id": "bd81ee7c-e7fe-4887-afbb-bbf5a88a208c",
   "metadata": {},
   "source": [
    "---"
   ]
  },
  {
   "cell_type": "code",
   "execution_count": 13,
   "id": "142c7104-0413-4d9e-9904-d4b3347e3d39",
   "metadata": {},
   "outputs": [],
   "source": [
    "turn_off_channel(channel_dict,'main')\n",
    "turn_off_channel(channel_dict,'ambiance')"
   ]
  },
  {
   "cell_type": "markdown",
   "id": "f77b831c-98d9-4156-b35b-839c317043c3",
   "metadata": {
    "jp-MarkdownHeadingCollapsed": true
   },
   "source": [
    "### Variables"
   ]
  },
  {
   "cell_type": "code",
   "execution_count": 3,
   "id": "b263e83a-33f3-4c55-a673-c4c6ed7f35b4",
   "metadata": {},
   "outputs": [],
   "source": [
    "node = ArtNetNode('169.254.79.148',6454)"
   ]
  },
  {
   "cell_type": "code",
   "execution_count": 4,
   "id": "fbfe60a5-91b2-4627-8742-7fcac0791644",
   "metadata": {},
   "outputs": [],
   "source": [
    "universe = node.add_universe(1)"
   ]
  },
  {
   "cell_type": "code",
   "execution_count": 5,
   "id": "0621c4a3-2b9e-4d0e-ae7c-577c387f0a80",
   "metadata": {},
   "outputs": [],
   "source": [
    "channel = universe.add_channel(start=1, width=11)"
   ]
  },
  {
   "cell_type": "code",
   "execution_count": 16,
   "id": "65ad7a4d-1e06-4551-b0a8-a42e6423bf9e",
   "metadata": {},
   "outputs": [
    {
     "data": {
      "text/plain": [
       "<Channel 1/11 8bit>"
      ]
     },
     "execution_count": 16,
     "metadata": {},
     "output_type": "execute_result"
    }
   ],
   "source": [
    "channel.set_values([255,0,0,120,40,10,80,250,0,0,0])"
   ]
  },
  {
   "cell_type": "markdown",
   "id": "ce9d9bd6-57d9-4549-b45d-c6ddfe650f95",
   "metadata": {},
   "source": [
    "### Async"
   ]
  },
  {
   "cell_type": "code",
   "execution_count": null,
   "id": "919a03ac-553a-4f5e-97d9-88535fa1cc4c",
   "metadata": {},
   "outputs": [],
   "source": [
    "async def main_async():\n",
    "    # Run this code in your async function\n",
    "    node = ArtNetNode('169.254.79.148',6454)\n",
    "\n",
    "    # Create universe 0\n",
    "    universe = node.add_universe(1)\n",
    "\n",
    "    # Add a channel to the universe which consists of 3 values\n",
    "    # Default size of a value is 8Bit (0..255) so this would fill\n",
    "    # the DMX values 1..3 of the universe\n",
    "    channel = universe.add_channel(start=1, width=11)\n",
    "\n",
    "    # Fade channel to 255,0,0 in 5s\n",
    "    # The fade will automatically run in the background\n",
    "    channel.add_fade([255,0,0,0,255,0,0,0,0,0,0],1000)\n",
    "\n",
    "    # this can be used to wait till the fade is complete\n",
    "    await channel"
   ]
  },
  {
   "cell_type": "code",
   "execution_count": null,
   "id": "03fa4817-9bcd-422f-9710-5d72e86126fe",
   "metadata": {},
   "outputs": [],
   "source": [
    "import PySimpleGUI as sg\n",
    "\n",
    "picked_color = '#1f77b4'\n",
    "\n",
    "layout = [[sg.In(\"\", visible=False, enable_events=True, key='set_line_color'),\n",
    "           sg.ColorChooserButton(\"\", size=(1, 1), target='set_line_color', button_color=(picked_color, picked_color),\n",
    "                                 border_width=1, key='set_line_color_chooser')],\n",
    "          [sg.Submit(key='submit')]]\n",
    "\n",
    "window = sg.Window('Window Title', layout)\n",
    "\n",
    "while True:\n",
    "    event, values = window.read()\n",
    "\n",
    "    if event is None:\n",
    "        break\n",
    "\n",
    "    elif event == 'set_line_color':\n",
    "        picked_color = values[event]\n",
    "        window['set_line_color_chooser'].Update(button_color=(picked_color, picked_color))\n",
    "\n",
    "    elif event == 'submit':\n",
    "        break\n",
    "\n",
    "window.close()"
   ]
  },
  {
   "cell_type": "code",
   "execution_count": 14,
   "id": "c515e823-c52d-4b4f-aa77-2f21c629fca5",
   "metadata": {},
   "outputs": [
    {
     "data": {
      "text/plain": [
       "'#35e1f4'"
      ]
     },
     "execution_count": 14,
     "metadata": {},
     "output_type": "execute_result"
    }
   ],
   "source": [
    "final_color"
   ]
  },
  {
   "cell_type": "code",
   "execution_count": 13,
   "id": "0d1761e2-ec10-40b4-bbf3-82688a979797",
   "metadata": {},
   "outputs": [
    {
     "data": {
      "text/plain": [
       "(53, 225, 244)"
      ]
     },
     "execution_count": 13,
     "metadata": {},
     "output_type": "execute_result"
    }
   ],
   "source": [
    "ImageColor.getcolor(final_color, \"RGB\")"
   ]
  },
  {
   "cell_type": "code",
   "execution_count": 15,
   "id": "25684ce9-165f-4338-aedf-4fdf0422bac4",
   "metadata": {},
   "outputs": [
    {
     "data": {
      "text/plain": [
       "(0.20784313725490197, 0.8823529411764706, 0.9568627450980393)"
      ]
     },
     "execution_count": 15,
     "metadata": {},
     "output_type": "execute_result"
    }
   ],
   "source": [
    "import matplotlib.colors\n",
    "matplotlib.colors.to_rgb(final_color)"
   ]
  }
 ],
 "metadata": {
  "kernelspec": {
   "display_name": "Python 3 (ipykernel)",
   "language": "python",
   "name": "python3"
  },
  "language_info": {
   "codemirror_mode": {
    "name": "ipython",
    "version": 3
   },
   "file_extension": ".py",
   "mimetype": "text/x-python",
   "name": "python",
   "nbconvert_exporter": "python",
   "pygments_lexer": "ipython3",
   "version": "3.8.17"
  }
 },
 "nbformat": 4,
 "nbformat_minor": 5
}
