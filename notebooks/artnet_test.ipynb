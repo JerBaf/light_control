{
 "cells": [
  {
   "cell_type": "markdown",
   "id": "86251cfc-2ab3-4e47-b0e2-babf98b90511",
   "metadata": {},
   "source": [
    "# Artnet Tests"
   ]
  },
  {
   "cell_type": "markdown",
   "id": "21f00206-7bec-4caa-bfa0-1c77b6f8bcde",
   "metadata": {},
   "source": [
    "### Packages"
   ]
  },
  {
   "cell_type": "code",
   "execution_count": 51,
   "id": "f908ed70-c69a-40e5-b7ab-fc293d06ef12",
   "metadata": {},
   "outputs": [],
   "source": [
    "import asyncio\n",
    "import argparse\n",
    "from pyartnet import ArtNetNode\n",
    "from pyartnet.base import universe as Universe\n",
    "from pyartnet.base import channel as Channel"
   ]
  },
  {
   "cell_type": "markdown",
   "id": "822494cc-9c86-48fd-9db4-4701b5d9fa2c",
   "metadata": {},
   "source": [
    "### Constants"
   ]
  },
  {
   "cell_type": "code",
   "execution_count": 40,
   "id": "1d9ba08f-eea2-4e17-b7c8-d4a411ed61d7",
   "metadata": {},
   "outputs": [],
   "source": [
    "# Setup Constants\n",
    "DEFAULT_PORT = 6454\n",
    "DEFAULT_UNIVERSE_ID = 1\n",
    "DEFAULT_CHANNEL_START_ID = 1\n",
    "DEFAULT_CHANNEL_WIDTH = 11\n",
    "# Control Constants\n",
    "DIMMER_ID = 0\n",
    "DIMMER_FINE_ID = 1\n",
    "STROBE_ID = 2\n",
    "RED_ID = 3\n",
    "BLUE_ID = 4\n",
    "GREEN_ID = 5\n",
    "WHITE_ID = 6\n",
    "AMBER_ID = 7\n",
    "UV_ID = 8\n",
    "PRESET_ID = 9\n",
    "SOUND_ID = 11\n",
    "LIGHT_OFF_VALUE = [0]*DEFAULT_CHANNEL_WIDTH"
   ]
  },
  {
   "cell_type": "markdown",
   "id": "13869580-767c-4ce9-8886-d070b18e7be5",
   "metadata": {},
   "source": [
    "### Variables"
   ]
  },
  {
   "cell_type": "code",
   "execution_count": 2,
   "id": "b263e83a-33f3-4c55-a673-c4c6ed7f35b4",
   "metadata": {},
   "outputs": [],
   "source": [
    "node = ArtNetNode('169.254.79.148',6454)"
   ]
  },
  {
   "cell_type": "code",
   "execution_count": 3,
   "id": "fbfe60a5-91b2-4627-8742-7fcac0791644",
   "metadata": {},
   "outputs": [],
   "source": [
    "universe = node.add_universe(1)"
   ]
  },
  {
   "cell_type": "code",
   "execution_count": 4,
   "id": "0621c4a3-2b9e-4d0e-ae7c-577c387f0a80",
   "metadata": {},
   "outputs": [],
   "source": [
    "channel = universe.add_channel(start=1, width=11)"
   ]
  },
  {
   "cell_type": "code",
   "execution_count": 11,
   "id": "65ad7a4d-1e06-4551-b0a8-a42e6423bf9e",
   "metadata": {},
   "outputs": [
    {
     "data": {
      "text/plain": [
       "<Channel 1/11 8bit>"
      ]
     },
     "execution_count": 11,
     "metadata": {},
     "output_type": "execute_result"
    }
   ],
   "source": [
    "channel.set_values([255,0,0,120,40,10,80,250,0,0,0])"
   ]
  },
  {
   "cell_type": "markdown",
   "id": "5fe62292-40ce-4b9a-955d-ca4cfc4ed709",
   "metadata": {},
   "source": [
    "### Artnet"
   ]
  },
  {
   "cell_type": "code",
   "execution_count": 14,
   "id": "6fec4923-03e8-4f82-b4c0-6d693e7e28ba",
   "metadata": {},
   "outputs": [],
   "source": [
    "await main()"
   ]
  },
  {
   "cell_type": "markdown",
   "id": "bcc30628-2600-4954-9ce1-954120be619c",
   "metadata": {},
   "source": [
    "### Helpers"
   ]
  },
  {
   "cell_type": "code",
   "execution_count": 49,
   "id": "ed616ff4-56a1-4d0a-aeec-355c539a8c2c",
   "metadata": {},
   "outputs": [],
   "source": [
    "def main(args) -> tuple:\n",
    "    \"\"\"\n",
    "    Create the connection and channels with the given parameters\n",
    "    and turn all lights off.\n",
    "\n",
    "    :param args:\n",
    "\n",
    "    :return: Tuple of dictionnaries containing the channel and their states.\n",
    "    \"\"\"\n",
    "    # Parse args\n",
    "\n",
    "    # Init connections\n",
    "    node, universe = setup(ip,port=port,universe_id=universe_id)\n",
    "    # Init Channels\n",
    "    channel_dict = dict()\n",
    "    state_dict = dict()\n",
    "    for channel_name in channel_list:\n",
    "        create_channel(universe,channel_dict,channel_name,\n",
    "                       channel_start_id,channel_width)\n",
    "        turn_off_channel(channel_dict,channel_name)\n",
    "        state_dict[channel_name] = LIGHT_OFF_VALUE\n",
    "    return channel_dict, state_dict\n",
    "    \n",
    "    \n",
    "\n",
    "def setup(ip:str,port=DEFAULT_PORT,universe_id=DEFAULT_UNIVERSE_ID) -> tuple:\n",
    "    \"\"\"\n",
    "    Create instance of ArtNetNode and assign universe id.\n",
    "\n",
    "    :param ip: String encoding of device IP.\n",
    "    :param port: Destination port for communication. (int, default=DEFAULT_PORT).\n",
    "    :param universe_id: Id of the universe of the setup. (int, default=DEFAULT_UNIVERSE_ID).\n",
    "\n",
    "    :return: Tuple in the form (node, universe).\n",
    "    \n",
    "    \"\"\"\n",
    "    node = ArtNetNode(ip,port)\n",
    "    universe = node.add_universe(universe_id)\n",
    "    return node, universe\n",
    "\n",
    "def create_channel(universe:Universe, channel_dict:dict,\n",
    "                   channel_name:str,channel_start_id=DEFAULT_CHANNEL_START_ID,\n",
    "                   channel_width=DEFAULT_CHANNEL_WIDTH): \n",
    "    \"\"\"\n",
    "    Create channel in the given universe of size\n",
    "    'channel_width' and starting at 'channel_start'.\n",
    "    Then add it in the dictionnary of all channels for\n",
    "    the universe.\n",
    "\n",
    "    :param universe: ArtNet Universe object in which the channel should be created.\n",
    "    :param channel_dict: Dictionnary with all the channels for the universe.\n",
    "    :param channel_name: String to be used as key in the channel dictionnary.\n",
    "    :param channel_start_id: Channel start id. (int, default=DEFAULT_CHANNEL_START_ID).\n",
    "    :param channel_width: Channel width. (int, default=DEFAULT_CHANNEL_WIDTH).\n",
    "\n",
    "    :return: ArtNet Channel with the given specifications.\n",
    "    \n",
    "    \"\"\"\n",
    "    if channel_start_id < 1 or channel_width < 1 :\n",
    "        raise ValueError('The channel start id and channel width should be greater or equal than 1')\n",
    "    channel = universe.add_channel(start=channel_start_id, width=channel_width)\n",
    "    channel_dict[channel_name] = channel\n",
    "\n",
    "def send_rgb(channel_dict:dict, channel_name:str,\n",
    "             values:list, state_dict:dict):\n",
    "    \"\"\"\n",
    "    Send RGB data to the channel, while keeping other parameters fixed.\n",
    "\n",
    "    :param channel_dict: Dictionnary with all the channels for the universe.\n",
    "    :param channel_name: Name of the channel to which the signal should be transmitted.\n",
    "    :param values: List of RGB values in format: [red_value, green_value, blue_value].\n",
    "                   The values of each color should be contained in [0,255].\n",
    "    :param state_dict: Dictionnary with the DMX states of all channels.\n",
    "    \n",
    "    \"\"\"\n",
    "    if len(values) != 3:\n",
    "        raise ValueError('The list of values should be of length 3')\n",
    "    current_state = state_dict[channel_name]\n",
    "    new_state = current_state.copy()\n",
    "    new_state[RED_ID:BLUE_ID+1] = values\n",
    "    channel = channel_dict[channel_name]\n",
    "    channel.set_values(new_state)\n",
    "\n",
    "def turn_off_channel(channel_dict:dict, channel_name:str):\n",
    "    \"\"\"\n",
    "    Turn off the lights of the given channel by setting all values to zero.\n",
    "\n",
    "    :param channel_dict: Dictionnary with all the channels for the universe.\n",
    "    :param channel_name: Name of the channel to which the signal should be transmitted.\n",
    "    \n",
    "    \"\"\"\n",
    "    channel_dict[channel_name].set_values(LIGHT_OFF_VALUE)"
   ]
  },
  {
   "cell_type": "code",
   "execution_count": 27,
   "id": "4a86cebe-a03f-4186-b85d-0a8d65dac81a",
   "metadata": {},
   "outputs": [],
   "source": [
    "async def main_async():\n",
    "    # Run this code in your async function\n",
    "    node = ArtNetNode('169.254.79.148',6454)\n",
    "\n",
    "    # Create universe 0\n",
    "    universe = node.add_universe(1)\n",
    "\n",
    "    # Add a channel to the universe which consists of 3 values\n",
    "    # Default size of a value is 8Bit (0..255) so this would fill\n",
    "    # the DMX values 1..3 of the universe\n",
    "    channel = universe.add_channel(start=1, width=11)\n",
    "\n",
    "    # Fade channel to 255,0,0 in 5s\n",
    "    # The fade will automatically run in the background\n",
    "    channel.add_fade([255,0,0,0,255,0,0,0,0,0,0],1000)\n",
    "\n",
    "    # this can be used to wait till the fade is complete\n",
    "    await channel"
   ]
  },
  {
   "cell_type": "code",
   "execution_count": null,
   "id": "6a97317c-971c-4e8a-b513-51a30903e4d2",
   "metadata": {},
   "outputs": [],
   "source": []
  }
 ],
 "metadata": {
  "kernelspec": {
   "display_name": "Python 3 (ipykernel)",
   "language": "python",
   "name": "python3"
  },
  "language_info": {
   "codemirror_mode": {
    "name": "ipython",
    "version": 3
   },
   "file_extension": ".py",
   "mimetype": "text/x-python",
   "name": "python",
   "nbconvert_exporter": "python",
   "pygments_lexer": "ipython3",
   "version": "3.8.17"
  }
 },
 "nbformat": 4,
 "nbformat_minor": 5
}
