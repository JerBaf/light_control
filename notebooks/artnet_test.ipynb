{
 "cells": [
  {
   "cell_type": "markdown",
   "id": "86251cfc-2ab3-4e47-b0e2-babf98b90511",
   "metadata": {},
   "source": [
    "# Artnet Tests"
   ]
  },
  {
   "cell_type": "markdown",
   "id": "21f00206-7bec-4caa-bfa0-1c77b6f8bcde",
   "metadata": {
    "jp-MarkdownHeadingCollapsed": true
   },
   "source": [
    "### Packages"
   ]
  },
  {
   "cell_type": "code",
   "execution_count": 1,
   "id": "f908ed70-c69a-40e5-b7ab-fc293d06ef12",
   "metadata": {},
   "outputs": [],
   "source": [
    "import asyncio\n",
    "from multiprocess import Process\n",
    "#import argparse\n",
    "#from PIL import ImageColor\n",
    "from pyartnet import ArtNetNode\n",
    "from pyartnet.base import universe as Universe\n",
    "from pyartnet.base import channel as Channel\n",
    "%load_ext autoreload\n",
    "%autoreload 2"
   ]
  },
  {
   "cell_type": "code",
   "execution_count": 2,
   "id": "6b2bc717-0b23-46ed-8677-60fc470812dc",
   "metadata": {},
   "outputs": [
    {
     "name": "stdout",
     "output_type": "stream",
     "text": [
      "pygame-ce 2.3.0 (SDL 2.26.4, Python 3.8.17)\n"
     ]
    }
   ],
   "source": [
    "import pygame\n",
    "import sys\n",
    "import pygame_gui\n",
    "import PySimpleGUI as sg\n",
    "from pygame_gui.elements import UIButton\n",
    "from pygame_gui.windows import UIColourPickerDialog"
   ]
  },
  {
   "cell_type": "markdown",
   "id": "822494cc-9c86-48fd-9db4-4701b5d9fa2c",
   "metadata": {
    "jp-MarkdownHeadingCollapsed": true
   },
   "source": [
    "### Constants"
   ]
  },
  {
   "cell_type": "code",
   "execution_count": 4,
   "id": "1d9ba08f-eea2-4e17-b7c8-d4a411ed61d7",
   "metadata": {},
   "outputs": [],
   "source": [
    "# Setup Constants\n",
    "DEFAULT_PORT = 6454\n",
    "DEFAULT_UNIVERSE_ID = 1\n",
    "DEFAULT_CHANNEL_START_ID = 1\n",
    "DEFAULT_CHANNEL_WIDTH = 11\n",
    "# Control Constants\n",
    "DIMMER_ID = 0\n",
    "DIMMER_FINE_ID = 1\n",
    "STROBE_ID = 2\n",
    "RED_ID = 3\n",
    "GREEN_ID = 4\n",
    "BLUE_ID = 5\n",
    "WHITE_ID = 6\n",
    "AMBER_ID = 7\n",
    "UV_ID = 8\n",
    "PRESET_ID = 9\n",
    "SOUND_ID = 10\n",
    "DEFAULT_LIGHT_VALUE = [255,255]+[0]*(DEFAULT_CHANNEL_WIDTH-2)\n",
    "RESET_VALUE = [0]*DEFAULT_CHANNEL_WIDTH\n",
    "LIGHT_OFF_VALUE = RESET_VALUE\n",
    "# Mappings\n",
    "FIXTURE_TO_ID_DICT = {'Dimmer':DIMMER_ID,'Dimmer_Fine':DIMMER_FINE_ID,\n",
    "                    'Strobe':STROBE_ID,'Red':RED_ID,'Green':GREEN_ID,\n",
    "                    'Blue':BLUE_ID,'White':WHITE_ID,'Amber':AMBER_ID,\n",
    "                    'UV':UV_ID,'Preset':PRESET_ID,'Sound':SOUND_ID}\n",
    "ID_TO_FIXTURE_DICT = dict([(i,fixture) for fixture,i in FIXTURE_TO_ID_DICT.items()])"
   ]
  },
  {
   "cell_type": "markdown",
   "id": "316297d5-d90d-44d7-927e-ad24deb5995d",
   "metadata": {},
   "source": [
    "### Code"
   ]
  },
  {
   "cell_type": "markdown",
   "id": "0d7dcc22-7335-40e8-9e2e-fef3814e2da6",
   "metadata": {
    "jp-MarkdownHeadingCollapsed": true
   },
   "source": [
    "#### Helpers"
   ]
  },
  {
   "cell_type": "code",
   "execution_count": 4,
   "id": "ed616ff4-56a1-4d0a-aeec-355c539a8c2c",
   "metadata": {},
   "outputs": [],
   "source": [
    "def init_channels(ip:str,channel_list:list,port=DEFAULT_PORT,\n",
    "                  universe_id=DEFAULT_UNIVERSE_ID,\n",
    "                  channel_start_id=DEFAULT_CHANNEL_START_ID,\n",
    "                  channel_width=DEFAULT_CHANNEL_WIDTH) -> tuple:\n",
    "    \"\"\"\n",
    "    Create the connection and channels with the given parameters\n",
    "    and turn all lights off.\n",
    "\n",
    "    :param ip: String encoding of device IP.\n",
    "    :param channel_list: Ordered list containing the names of the channel to be created.\n",
    "    :param port: Destination port for communication. (int, default=DEFAULT_PORT).\n",
    "    :param universe_id: Id of the universe of the setup. (int, default=DEFAULT_UNIVERSE_ID).\n",
    "    :param channel_start_id: Channel start id. (int, default=DEFAULT_CHANNEL_START_ID).\n",
    "    :param channel_width: Channel width. (int, default=DEFAULT_CHANNEL_WIDTH).\n",
    "\n",
    "    :return: Tuple of dictionnaries containing the channel and their states.\n",
    "    \n",
    "    \"\"\"\n",
    "    # Init connections\n",
    "    node, universe = create_connection(ip,port=port,universe_id=universe_id)\n",
    "    # Init Channels\n",
    "    channel_dict = dict()\n",
    "    state_dict = dict()\n",
    "    for idx, channel_name in enumerate(channel_list):\n",
    "        create_channel(universe,channel_dict,channel_name,\n",
    "                       channel_start_id+channel_width*idx,\n",
    "                       channel_width)\n",
    "        turn_off_channel(channel_dict,channel_name)\n",
    "        state_dict[channel_name] = DEFAULT_LIGHT_VALUE.copy()\n",
    "    return channel_dict, state_dict\n",
    "    \n",
    "    \n",
    "\n",
    "def create_connection(ip:str,port=DEFAULT_PORT,universe_id=DEFAULT_UNIVERSE_ID) -> tuple:\n",
    "    \"\"\"\n",
    "    Create instance of ArtNetNode and assign universe id.\n",
    "\n",
    "    :param ip: String encoding of device IP.\n",
    "    :param port: Destination port for communication. (int, default=DEFAULT_PORT).\n",
    "    :param universe_id: Id of the universe of the setup. (int, default=DEFAULT_UNIVERSE_ID).\n",
    "\n",
    "    :return: Tuple in the form (node, universe).\n",
    "    \n",
    "    \"\"\"\n",
    "    node = ArtNetNode(ip,port)\n",
    "    universe = node.add_universe(universe_id)\n",
    "    return node, universe\n",
    "\n",
    "def create_channel(universe:Universe, channel_dict:dict,\n",
    "                   channel_name:str,channel_start_id=DEFAULT_CHANNEL_START_ID,\n",
    "                   channel_width=DEFAULT_CHANNEL_WIDTH,return_=False): \n",
    "    \"\"\"\n",
    "    Create channel in the given universe of size\n",
    "    'channel_width' and starting at 'channel_start'.\n",
    "    Then add it in the dictionnary of all channels for\n",
    "    the universe.\n",
    "\n",
    "    :param universe: ArtNet Universe object in which the channel should be created.\n",
    "    :param channel_dict: Dictionnary with all the channels for the universe.\n",
    "    :param channel_name: String to be used as key in the channel dictionnary.\n",
    "    :param channel_start_id: Channel start id. (int, default=DEFAULT_CHANNEL_START_ID).\n",
    "    :param channel_width: Channel width. (int, default=DEFAULT_CHANNEL_WIDTH).\n",
    "\n",
    "    :return: ArtNet Channel with the given specifications.\n",
    "    \n",
    "    \"\"\"\n",
    "    if channel_start_id < 1 or channel_width < 1 :\n",
    "        raise ValueError('The channel start id and channel width should be greater or equal than 1')\n",
    "    channel = universe.add_channel(start=channel_start_id, width=channel_width)\n",
    "    channel_dict[channel_name] = channel\n",
    "    if return_:\n",
    "        return channel\n",
    "\n",
    "def send_rgb(channel_dict:dict, channel_name:str,\n",
    "             values:list, state_dict:dict):\n",
    "    \"\"\"\n",
    "    Send RGB data to the channel, while keeping other parameters fixed.\n",
    "\n",
    "    :param channel_dict: Dictionnary with all the channels for the universe.\n",
    "    :param channel_name: Name of the channel to which the signal should be transmitted.\n",
    "    :param values: List of RGB values in format: [red_value, green_value, blue_value].\n",
    "                   The values of each color should be contained in [0,255].\n",
    "    :param state_dict: Dictionnary with the DMX states of all channels.\n",
    "    \n",
    "    \"\"\"\n",
    "    if len(values) != 3:\n",
    "        raise ValueError('The list of values should be of length 3')\n",
    "    current_state = state_dict[channel_name]\n",
    "    new_state = current_state.copy()\n",
    "    new_state[RED_ID:BLUE_ID+1] = values\n",
    "    state_dict[channel_name] = new_state\n",
    "    channel = channel_dict[channel_name]\n",
    "    channel.set_values(new_state)\n",
    "\n",
    "def send_amber(channel_dict:dict, channel_name:str,\n",
    "             value:int, state_dict:dict):\n",
    "    \"\"\"\n",
    "    Send RGB data to the channel, while keeping other parameters fixed.\n",
    "\n",
    "    :param channel_dict: Dictionnary with all the channels for the universe.\n",
    "    :param channel_name: Name of the channel to which the signal should be transmitted.\n",
    "    :param value: The value to which should be set the amber channel.\n",
    "                   The value should be contained in [0,255].\n",
    "    :param state_dict: Dictionnary with the DMX states of all channels.\n",
    "    \n",
    "    \"\"\"\n",
    "    current_state = state_dict[channel_name]\n",
    "    new_state = current_state.copy()\n",
    "    new_state[AMBER_ID] = value\n",
    "    state_dict[channel_name] = new_state\n",
    "    channel = channel_dict[channel_name]\n",
    "    channel.set_values(new_state)\n",
    "\n",
    "def send_uv(channel_dict:dict, channel_name:str,\n",
    "             value:int, state_dict:dict):\n",
    "    \"\"\"\n",
    "    Send RGB data to the channel, while keeping other parameters fixed.\n",
    "\n",
    "    :param channel_dict: Dictionnary with all the channels for the universe.\n",
    "    :param channel_name: Name of the channel to which the signal should be transmitted.\n",
    "    :param value: The value to which should be set the amber channel.\n",
    "                   The value should be contained in [0,255].\n",
    "    :param state_dict: Dictionnary with the DMX states of all channels.\n",
    "    \n",
    "    \"\"\"\n",
    "    current_state = state_dict[channel_name]\n",
    "    new_state = current_state.copy()\n",
    "    new_state[UV_ID] = value\n",
    "    state_dict[channel_name] = new_state\n",
    "    channel = channel_dict[channel_name]\n",
    "    channel.set_values(new_state)\n",
    "\n",
    "def turn_off_channel(channel_dict:dict, channel_name:str):\n",
    "    \"\"\"\n",
    "    Turn off the lights of the given channel by setting all values to zero.\n",
    "\n",
    "    :param channel_dict: Dictionnary with all the channels for the universe.\n",
    "    :param channel_name: Name of the channel to which the signal should be transmitted.\n",
    "    \n",
    "    \"\"\"\n",
    "    channel_dict[channel_name].set_values(LIGHT_OFF_VALUE)"
   ]
  },
  {
   "cell_type": "markdown",
   "id": "4ff6255e-aa06-4b14-a9db-2a419c239aab",
   "metadata": {
    "jp-MarkdownHeadingCollapsed": true
   },
   "source": [
    "#### Objects"
   ]
  },
  {
   "cell_type": "code",
   "execution_count": 5,
   "id": "ae9c1e9c-e071-4c60-a482-fc8f833bb51e",
   "metadata": {},
   "outputs": [],
   "source": [
    "class Light:\n",
    "    \"\"\"\n",
    "    Light object class. A light is model by the channel to which\n",
    "    it is linked and a state. The latter is a list containing the \n",
    "    values for each of the fixture in the channel. \n",
    "    \n",
    "    \"\"\"\n",
    "    \n",
    "    def __init__(self, name:str, channel:Channel):\n",
    "        \"\"\"\n",
    "        Create a Light instance.\n",
    "\n",
    "        :param name: String identifier for the light. If the light is used in a Group,\n",
    "                     please be sure to enter unique identifiers.\n",
    "        :param channel: ArtNet channel object to which the light is bound. \n",
    "\n",
    "        \"\"\"\n",
    "        self.name = name\n",
    "        self.channel = channel\n",
    "        self.state = DEFAULT_LIGHT_VALUE.copy()\n",
    "\n",
    "    def reset(self):\n",
    "        \"\"\"\n",
    "        Reset the light to its default state, i.e. zero value for each fixture.\n",
    "        \"\"\"\n",
    "        new_state = DEFAULT_LIGHT_VALUE\n",
    "        self.channel.set_values(new_state)\n",
    "        self.state = new_state\n",
    "\n",
    "    def set_fixture_value(self, fixture_id:int, value:int):\n",
    "        \"\"\"\n",
    "        Set the fixture to the given value.\n",
    "\n",
    "        :param fixture_id: Id of the fixture to be set.\n",
    "        :param value: Integer value of the fixture, should be contained in [0,255].\n",
    "        \n",
    "        \"\"\"\n",
    "        if value < 0 or value > 255:\n",
    "            raise ValueError(f'The value for {ID_TO_FIXTURE_DICT[fixture_id]} should be contained in [0,255]')\n",
    "        new_state = self.state.copy()\n",
    "        new_state[fixture_id] = value\n",
    "        print(new_state)\n",
    "        print(self.channel)\n",
    "        self.channel.set_values(new_state)\n",
    "        self.state = new_state\n",
    "\n",
    "    def turn_off(self):\n",
    "        \"\"\"\n",
    "        Turn off the light by setting dimmer to 0.\n",
    "        \"\"\"\n",
    "        self.set_fixture_value(DIMMER_ID,0)\n",
    "    \n",
    "    def set_rgb(self, values:list):\n",
    "        \"\"\"\n",
    "        Set the RGB fixtures to the color code given in values.\n",
    "\n",
    "        :param values: List containing the values for the red, green and blue fixtures.\n",
    "        \n",
    "        \"\"\"\n",
    "        for idx, fixture_id in enumerate([RED_ID,GREEN_ID,BLUE_ID]):\n",
    "            self.set_fixture_value(fixture_id,values[idx])"
   ]
  },
  {
   "cell_type": "code",
   "execution_count": 6,
   "id": "f8b085a3-99dd-4787-af2e-9aa8504d0684",
   "metadata": {},
   "outputs": [],
   "source": [
    "class Group:\n",
    "    \"\"\"\n",
    "    Group object class. A group is modeled by a list\n",
    "    of lights and a name. Every action applied to the group\n",
    "    will be executed on all lights present. Each light in the \n",
    "    group should be unique and have a unique name.\n",
    "    \n",
    "    \"\"\"\n",
    "\n",
    "    def __init__(self, name:str, lights=[]):\n",
    "        \"\"\"\n",
    "        Create a Group instance.\n",
    "\n",
    "        :param name: String identifier for the group of lights.\n",
    "        :param lights: List containing the initial lights of the group,\n",
    "                       empty by default. All lights should be unique.\n",
    "        \n",
    "        \"\"\"\n",
    "        self.name = name\n",
    "        self.lights = lights\n",
    "        self.light_names = list(set([l.name for l in lights]))\n",
    "        if len(self.light_names) != len(self.lights):\n",
    "            raise ValueError('Duplicate names in the list of lights provided to the Group constructor')\n",
    "    \n",
    "    def add_light(self,light):\n",
    "        \"\"\"\n",
    "        Add a light to the existing pool. Must be a new unique light.\n",
    "\n",
    "        :param light. Light object to add to the existing pool of lights in the group.\n",
    "        \n",
    "        \"\"\"\n",
    "        if light.name in self.light_name:\n",
    "            raise ValueError('Tried to add a light whose name is already present in the group')\n",
    "        self.lights.append(light)\n",
    "        \n",
    "    def reset(self):\n",
    "        \"\"\"\n",
    "        Reset all lights in the group to their default states, i.e. zero value for each fixture.\n",
    "        \"\"\"\n",
    "        for l in self.lights:\n",
    "            l.reset()\n",
    "\n",
    "    def set_fixture_value(self, fixture_id:int, value:int):\n",
    "        \"\"\"\n",
    "        Set the given fixture to 'value' for all lights in the group.\n",
    "\n",
    "        :param fixture_id: Id of the fixture to be set.\n",
    "        :param value: Integer value of the fixture, should be contained in [0,255].\n",
    "        \n",
    "        \"\"\"\n",
    "        for l in self.lights:\n",
    "            l.set_fixture_value(fixture_id,value)\n",
    "\n",
    "    def turn_off(self):\n",
    "        \"\"\"\n",
    "        Turn off all lights in the group by setting dimmer to 0.\n",
    "        \"\"\"\n",
    "        for l in self.lights:\n",
    "            l.turn_off()\n",
    "    \n",
    "    def set_rgb(self, values:list):\n",
    "        \"\"\"\n",
    "        Set the RGB fixtures to the color code given in values for all lights in the group.\n",
    "\n",
    "        :param values: List containing the values for the red, green and blue fixtures.\n",
    "        \n",
    "        \"\"\"\n",
    "        for l in self.lights:\n",
    "            print(l,values)\n",
    "            l.set_rgb(values)"
   ]
  },
  {
   "cell_type": "markdown",
   "id": "ff173946-9daf-4a44-bb61-4f98c48b6405",
   "metadata": {
    "jp-MarkdownHeadingCollapsed": true
   },
   "source": [
    "#### UI"
   ]
  },
  {
   "cell_type": "code",
   "execution_count": 1,
   "id": "ce778440-8d7a-4a2c-a841-ef2f19743e4c",
   "metadata": {},
   "outputs": [],
   "source": [
    "EVENTS_SET = {'group_0','group_1','light_0','light_1','light_2','light_3','light_4','light_5',}"
   ]
  },
  {
   "cell_type": "code",
   "execution_count": 8,
   "id": "7de37f12-c937-4d38-b06d-7b835d72b4c4",
   "metadata": {},
   "outputs": [],
   "source": [
    "def create_UI_layout():\n",
    "    \"\"\"\n",
    "    \"\"\"\n",
    "    layout = [[sg.Text(\"Control Center Group 1\",justification=\"center\",s=(47,1))],\n",
    "    [sg.Button(\"Main\",button_color=\"black on SkyBlue1\",key=\"group_0\",s=(10,5)),\n",
    "        sg.Button(\"Light 1\",button_color=\"black on SkyBlue1\",key=\"light_0\",s=(10,5)),\n",
    "        sg.Button(\"Light 2\",button_color=\"black on SkyBlue1\",key=\"light_1\",s=(10,5)),\n",
    "        sg.Button(\"Light 3\",button_color=\"black on SkyBlue1\",key=\"light_2\",s=(10,5))],\n",
    "    [sg.Text(\"Control Center Group 2\",justification=\"center\",s=(47,1))],\n",
    "    [sg.Button(\"Ambiance\",button_color=\"black on gold\",key=\"group_1\",s=(10,5)),\n",
    "     sg.Button(\"Light 4\",button_color=\"black on gold\",key=\"light_3\",s=(10,5)),\n",
    "     sg.Button(\"Light 5\",button_color=\"black on gold\",key=\"light_4\",s=(10,5)),\n",
    "     sg.Button(\"Light 6\",button_color=\"black on RoyalBlue1\",key=\"light_5\",s=(10,5))],]\n",
    "    return layout"
   ]
  },
  {
   "cell_type": "code",
   "execution_count": 9,
   "id": "98027795-9018-47b3-b949-a7fe92c4f725",
   "metadata": {},
   "outputs": [],
   "source": [
    "def UI_process(light_object_dict:dict):\n",
    "    \"\"\"\n",
    "    \"\"\"\n",
    "    layout = create_UI_layout()\n",
    "    window = sg.Window(\"Delta Control\", layout, background_color='black', resizable=True)\n",
    "    while True:\n",
    "        # Update GUI\n",
    "        event, values = window.read(timeout=1000)\n",
    "        if event == sg.WIN_CLOSED:\n",
    "            break\n",
    "        elif event in EVENTS_SET:\n",
    "            light_object = light_object_dict[event]\n",
    "            color_popup(light_object)\n",
    "            \n",
    "    window.close();"
   ]
  },
  {
   "cell_type": "markdown",
   "id": "052431dc-cbb5-4985-88aa-839e96d0ae0f",
   "metadata": {
    "jp-MarkdownHeadingCollapsed": true
   },
   "source": [
    "#### PyGame"
   ]
  },
  {
   "cell_type": "code",
   "execution_count": 10,
   "id": "7ca0f23c-8fca-4e59-8ea7-9e83b29511b0",
   "metadata": {},
   "outputs": [],
   "source": [
    "async def color_popup(light_object):\n",
    "    \"\"\"\n",
    "    \"\"\"\n",
    "    pygame.init()\n",
    "\n",
    "    pygame.display.set_caption('Colour Picking App')\n",
    "    SCREEN = pygame.display.set_mode((800, 600))\n",
    "    \n",
    "    ui_manager = pygame_gui.UIManager((800, 600))\n",
    "    background = pygame.Surface((800, 600))\n",
    "    background.fill(\"#3a3b3c\")\n",
    "    colour_picker_button = UIButton(relative_rect=pygame.Rect(-180, -60, 150, 30),\n",
    "                                    text='Pick Colour',\n",
    "                                    manager=ui_manager,\n",
    "                                    anchors={'left': 'right',\n",
    "                                            'right': 'right',\n",
    "                                            'top': 'bottom',\n",
    "                                            'bottom': 'bottom'})\n",
    "    colour_picker = None                                    \n",
    "    current_colour = pygame.Color(0, 0, 0)\n",
    "    picked_colour_surface = pygame.Surface((400, 400))\n",
    "    picked_colour_surface.fill(current_colour)\n",
    "    \n",
    "    clock = pygame.time.Clock()\n",
    "    \n",
    "    while True:\n",
    "        time_delta = clock.tick(60) / 1000\n",
    "        for event in pygame.event.get():\n",
    "            if event.type == pygame.QUIT:\n",
    "                pygame.quit()\n",
    "                sys.exit()\n",
    "            if event.type == pygame_gui.UI_BUTTON_PRESSED and event.ui_element == colour_picker_button:\n",
    "                colour_picker = UIColourPickerDialog(pygame.Rect(160, 50, 420, 400),\n",
    "                                                    ui_manager,\n",
    "                                                    window_title=\"Change Colour...\",\n",
    "                                                    initial_colour=current_colour,\n",
    "                                                    light_object=light_object)\n",
    "                colour_picker_button.disable()\n",
    "            if event.type == pygame_gui.UI_COLOUR_PICKER_COLOUR_PICKED:\n",
    "                current_colour = event.colour\n",
    "                picked_colour_surface.fill(current_colour)\n",
    "            if event.type == pygame_gui.UI_WINDOW_CLOSE:\n",
    "                colour_picker_button.enable()\n",
    "                colour_picker = None\n",
    "            \n",
    "            ui_manager.process_events(event)\n",
    "            \n",
    "        ui_manager.update(time_delta)\n",
    "    \n",
    "        SCREEN.blit(background, (0, 0))\n",
    "        SCREEN.blit(picked_colour_surface, (200, 100))\n",
    "    \n",
    "        ui_manager.draw_ui(SCREEN)\n",
    "    \n",
    "        pygame.display.update()\n",
    "    \n",
    "    pygame.quit()"
   ]
  },
  {
   "cell_type": "markdown",
   "id": "57196f00-0fa3-4cc0-9285-babf7adb6b21",
   "metadata": {
    "jp-MarkdownHeadingCollapsed": true
   },
   "source": [
    "#### Async PyGame"
   ]
  },
  {
   "cell_type": "code",
   "execution_count": 11,
   "id": "4ca2aae9-8f1c-4c00-b495-76ffdcfde60a",
   "metadata": {},
   "outputs": [],
   "source": [
    "def pygame_event_loop(loop, event_queue):\n",
    "    while True:\n",
    "        event = pygame.event.wait()\n",
    "        asyncio.run_coroutine_threadsafe(event_queue.put(event), loop=loop)\n",
    "\n",
    "async def handle_events(event_queue, colour_picker_button, clock):\n",
    "    while True:\n",
    "        time_delta = clock.tick(60) / 1000\n",
    "        events = await event_queue.get()\n",
    "        for event in events:\n",
    "            if event.type == pygame.QUIT:\n",
    "                pygame.quit()\n",
    "                sys.exit()\n",
    "            if event.type == pygame_gui.UI_BUTTON_PRESSED and event.ui_element == colour_picker_button:\n",
    "                colour_picker = UIColourPickerDialog(pygame.Rect(160, 50, 420, 400),\n",
    "                                                    ui_manager,\n",
    "                                                    window_title=\"Change Colour...\",\n",
    "                                                    initial_colour=current_colour,\n",
    "                                                    light_object=light_object)\n",
    "                colour_picker_button.disable()\n",
    "            if event.type == pygame_gui.UI_COLOUR_PICKER_COLOUR_PICKED:\n",
    "                current_colour = event.colour\n",
    "                picked_colour_surface.fill(current_colour)\n",
    "            if event.type == pygame_gui.UI_WINDOW_CLOSE:\n",
    "                colour_picker_button.enable()\n",
    "                colour_picker = None\n",
    "            \n",
    "            ui_manager.process_events(event)\n",
    "            \n",
    "        ui_manager.update(time_delta)\n",
    "    \n",
    "        SCREEN.blit(background, (0, 0))\n",
    "        SCREEN.blit(picked_colour_surface, (200, 100))\n",
    "    \n",
    "        ui_manager.draw_ui(SCREEN)\n",
    "    \n",
    "        pygame.display.update()\n",
    "    asyncio.get_event_loop().stop()"
   ]
  },
  {
   "cell_type": "code",
   "execution_count": 12,
   "id": "d53d1205-eb0a-4c31-9b0c-0b644be6afee",
   "metadata": {},
   "outputs": [],
   "source": [
    "def color_popup(light_object):\n",
    "    \"\"\"\n",
    "    \"\"\"\n",
    "    loop = asyncio.new_event_loop()\n",
    "    event_queue = asyncio.Queue()\n",
    "    \n",
    "    pygame.init()\n",
    "\n",
    "    pygame.display.set_caption('Colour Picking App')\n",
    "    SCREEN = pygame.display.set_mode((800, 600))\n",
    "    \n",
    "    ui_manager = pygame_gui.UIManager((800, 600))\n",
    "    background = pygame.Surface((800, 600))\n",
    "    background.fill(\"#3a3b3c\")\n",
    "    colour_picker_button = UIButton(relative_rect=pygame.Rect(-180, -60, 150, 30),\n",
    "                                    text='Pick Colour',\n",
    "                                    manager=ui_manager,\n",
    "                                    anchors={'left': 'right',\n",
    "                                            'right': 'right',\n",
    "                                            'top': 'bottom',\n",
    "                                            'bottom': 'bottom'})\n",
    "    colour_picker = None                                    \n",
    "    current_colour = pygame.Color(0, 0, 0)\n",
    "    picked_colour_surface = pygame.Surface((400, 400))\n",
    "    picked_colour_surface.fill(current_colour)\n",
    "    \n",
    "    clock = pygame.time.Clock()\n",
    "\n",
    "    pygame_task = loop.run_in_executor(None, pygame_event_loop, loop, event_queue)\n",
    "    event_task = asyncio.ensure_future(handle_events(event_queue, colour_picker_button, clock))\n",
    "    try:\n",
    "        loop.run_forever()\n",
    "    except KeyboardInterrupt:\n",
    "        pass\n",
    "    finally:\n",
    "        pygame_task.cancel()\n",
    "        event_task.cancel()\n",
    "\n",
    "    print('UUU')\n",
    "    pygame.quit()"
   ]
  },
  {
   "cell_type": "markdown",
   "id": "3ed1cf0e-0941-4f37-b6f3-78d8e931722a",
   "metadata": {},
   "source": [
    "### Stupid Artnet"
   ]
  },
  {
   "cell_type": "code",
   "execution_count": 5,
   "id": "3255549c-09b4-4852-8010-ffda3438857e",
   "metadata": {},
   "outputs": [
    {
     "name": "stdout",
     "output_type": "stream",
     "text": [
      "===================================\n",
      "Stupid Artnet initialized\n",
      "Target IP: 169.254.79.148 : 6454 \n",
      "Universe: 1 \n",
      "Packet Size: 512 \n",
      "===================================\n"
     ]
    },
    {
     "data": {
      "text/plain": [
       "'\\n# YOU CAN CREATE YOUR OWN BYTE ARRAY OF PACKET_SIZE\\npacket = bytearray(packet_size)\\t\\t# create packet for Artnet\\nfor i in range(packet_size):\\t\\t\\t# fill packet with sequential values\\n    packet[i] = (i % 256)\\n\\n# ... AND SET IT TO STUPID ARTNET\\na.set(packet)\\t\\t\\t\\t\\t\\t# only on changes\\n'"
      ]
     },
     "execution_count": 5,
     "metadata": {},
     "output_type": "execute_result"
    }
   ],
   "source": [
    "from stupidArtnet import StupidArtnet\n",
    "import time\n",
    "import random\n",
    "\n",
    "# THESE ARE MOST LIKELY THE VALUES YOU WILL BE NEEDING\n",
    "target_ip = '169.254.79.148'\t\t# typically in 2.x or 10.x range\n",
    "universe = DEFAULT_UNIVERSE_ID \t\t\t\t\t\t\t\t\t\t# see docs\n",
    "packet_size = 512\t\t\t\t\t\t\t\t# it is not necessary to send whole universe\n",
    "\n",
    "# CREATING A STUPID ARTNET OBJECT\n",
    "# SETUP NEEDS A FEW ELEMENTS\n",
    "# TARGET_IP   = DEFAULT 127.0.0.1\n",
    "# UNIVERSE    = DEFAULT 0\n",
    "# PACKET_SIZE = DEFAULT 512\n",
    "# FRAME_RATE  = DEFAULT 30\n",
    "# ISBROADCAST = DEFAULT FALSE\n",
    "a = StupidArtnet(target_ip, universe, packet_size, 30, True, True)\n",
    "\n",
    "# MORE ADVANCED CAN BE SET WITH SETTERS IF NEEDED\n",
    "# NET         = DEFAULT 0\n",
    "# SUBNET      = DEFAULT 0\n",
    "\n",
    "# CHECK INIT\n",
    "print(a)\n",
    "\n",
    "\"\"\"\n",
    "# YOU CAN CREATE YOUR OWN BYTE ARRAY OF PACKET_SIZE\n",
    "packet = bytearray(packet_size)\t\t# create packet for Artnet\n",
    "for i in range(packet_size):\t\t\t# fill packet with sequential values\n",
    "    packet[i] = (i % 256)\n",
    "\n",
    "# ... AND SET IT TO STUPID ARTNET\n",
    "a.set(packet)\t\t\t\t\t\t# only on changes\n",
    "\"\"\""
   ]
  },
  {
   "cell_type": "code",
   "execution_count": 7,
   "id": "aaf6ec91-964c-41c1-83ed-994bcc8e45af",
   "metadata": {},
   "outputs": [],
   "source": [
    "# ALL PACKETS ARE SAVED IN THE CLASS, YOU CAN CHANGE SINGLE VALUES\n",
    "a.set_single_value(1, 0)\t\n",
    "a.set_single_value(4, 255)\t\t\t# set channel 1 to 255\n",
    "\n",
    "# ... AND SEND\n",
    "a.show()\t\t\t\t\t\t\t# send data"
   ]
  },
  {
   "cell_type": "code",
   "execution_count": 11,
   "id": "b54db6f8-8b87-49b4-a35a-c989389a9c27",
   "metadata": {
    "scrolled": true
   },
   "outputs": [
    {
     "name": "stdout",
     "output_type": "stream",
     "text": [
      "bytearray(b'\\x00\\x00\\x00\\x00\\x00\\x00\\x00\\x00\\x00\\x00\\x00\\x00\\x00\\x00\\x00\\x00\\x00\\x00\\x00\\x00\\x00\\x00\\x00\\x00\\x00\\x00\\x00\\x00\\x00\\x00\\x00\\x00\\x00\\x00\\x00\\x00\\x00\\x00\\x00\\x00\\x00\\x00\\x00\\x00\\x00\\x00\\x00\\x00\\x00\\x00\\x00\\x00\\x00\\x00\\x00\\x00\\x00\\x00\\x00\\x00\\x00\\x00\\x00\\x00\\x00\\x00\\x00\\x00\\x00\\x00\\x00\\x00\\x00\\x00\\x00\\x00\\x00\\x00\\x00\\x00\\x00\\x00\\x00\\x00\\x00\\x00\\x00\\x00\\x00\\x00\\x00\\x00\\x00\\x00\\x00\\x00\\x00\\x00\\x00\\x00\\x00\\x00\\x00\\x00\\x00\\x00\\x00\\x00\\x00\\x00\\x00\\x00\\x00\\x00\\x00\\x00\\x00\\x00\\x00\\x00\\x00\\x00\\x00\\x00\\x00\\x00\\x00\\x00\\x00\\x00\\x00\\x00\\x00\\x00\\x00\\x00\\x00\\x00\\x00\\x00\\x00\\x00\\x00\\x00\\x00\\x00\\x00\\x00\\x00\\x00\\x00\\x00\\x00\\x00\\x00\\x00\\x00\\x00\\x00\\x00\\x00\\x00\\x00\\x00\\x00\\x00\\x00\\x00\\x00\\x00\\x00\\x00\\x00\\x00\\x00\\x00\\x00\\x00\\x00\\x00\\x00\\x00\\x00\\x00\\x00\\x00\\x00\\x00\\x00\\x00\\x00\\x00\\x00\\x00\\x00\\x00\\x00\\x00\\x00\\x00\\x00\\x00\\x00\\x00\\x00\\x00\\x00\\x00\\x00\\x00\\x00\\x00\\x00\\x00\\x00\\x00\\x00\\x00\\x00\\x00\\x00\\x00\\x00\\x00\\x00\\x00\\x00\\x00\\x00\\x00\\x00\\x00\\x00\\x00\\x00\\x00\\x00\\x00\\x00\\x00\\x00\\x00\\x00\\x00\\x00\\x00\\x00\\x00\\x00\\x00\\x00\\x00\\x00\\x00\\x00\\x00\\x00\\x00\\x00\\x00\\x00\\x00\\x00\\x00\\x00\\x00\\x00\\x00\\x00\\x00\\x00\\x00\\x00\\x00\\x00\\x00\\x00\\x00\\x00\\x00\\x00\\x00\\x00\\x00\\x00\\x00\\x00\\x00\\x00\\x00\\x00\\x00\\x00\\x00\\x00\\x00\\x00\\x00\\x00\\x00\\x00\\x00\\x00\\x00\\x00\\x00\\x00\\x00\\x00\\x00\\x00\\x00\\x00\\x00\\x00\\x00\\x00\\x00\\x00\\x00\\x00\\x00\\x00\\x00\\x00\\x00\\x00\\x00\\x00\\x00\\x00\\x00\\x00\\x00\\x00\\x00\\x00\\x00\\x00\\x00\\x00\\x00\\x00\\x00\\x00\\x00\\x00\\x00\\x00\\x00\\x00\\x00\\x00\\x00\\x00\\x00\\x00\\x00\\x00\\x00\\x00\\x00\\x00\\x00\\x00\\x00\\x00\\x00\\x00\\x00\\x00\\x00\\x00\\x00\\x00\\x00\\x00\\x00\\x00\\x00\\x00\\x00\\x00\\x00\\x00\\x00\\x00\\x00\\x00\\x00\\x00\\x00\\x00\\x00\\x00\\x00\\x00\\x00\\x00\\x00\\x00\\x00\\x00\\x00\\x00\\x00\\x00\\x00\\x00\\x00\\x00\\x00\\x00\\x00\\x00\\x00\\x00\\x00\\x00\\x00\\x00\\x00\\x00\\x00\\x00\\x00\\x00\\x00\\x00\\x00\\x00\\x00\\x00\\x00\\x00\\x00\\x00\\x00\\x00\\x00\\x00\\x00\\x00\\x00\\x00\\x00\\x00\\x00\\x00\\x00\\x00\\x00\\x00\\x00\\x00\\x00\\x00\\x00\\x00\\x00\\x00\\x00\\x00\\x00\\x00\\x00\\x00\\x00\\x00\\x00\\x00\\x00\\x00\\x00\\x00\\x00\\x00\\x00\\x00\\x00\\x00\\x00\\x00\\x00\\x00\\x00\\x00\\x00\\x00\\x00\\x00\\x00\\x00\\x00\\x00\\x00\\x00\\x00\\x00\\x00\\x00\\x00\\x00\\x00\\x00\\x00\\x00\\x00\\x00\\x00\\x00\\x00')\n"
     ]
    },
    {
     "ename": "NameError",
     "evalue": "name 'packet' is not defined",
     "output_type": "error",
     "traceback": [
      "\u001b[1;31m---------------------------------------------------------------------------\u001b[0m",
      "\u001b[1;31mNameError\u001b[0m                                 Traceback (most recent call last)",
      "Cell \u001b[1;32mIn[11], line 17\u001b[0m\n\u001b[0;32m     15\u001b[0m \u001b[38;5;28;01mfor\u001b[39;00m x \u001b[38;5;129;01min\u001b[39;00m \u001b[38;5;28mrange\u001b[39m(\u001b[38;5;241m100\u001b[39m):\n\u001b[0;32m     16\u001b[0m     \u001b[38;5;28;01mfor\u001b[39;00m i \u001b[38;5;129;01min\u001b[39;00m \u001b[38;5;28mrange\u001b[39m(packet_size):  \t\u001b[38;5;66;03m# Fill buffer with random stuff\u001b[39;00m\n\u001b[1;32m---> 17\u001b[0m         \u001b[43mpacket\u001b[49m[i] \u001b[38;5;241m=\u001b[39m random\u001b[38;5;241m.\u001b[39mrandint(\u001b[38;5;241m0\u001b[39m, \u001b[38;5;241m255\u001b[39m)\n\u001b[0;32m     18\u001b[0m     a\u001b[38;5;241m.\u001b[39mset(packet)\n\u001b[0;32m     19\u001b[0m     time\u001b[38;5;241m.\u001b[39msleep(\u001b[38;5;241m.2\u001b[39m)\n",
      "\u001b[1;31mNameError\u001b[0m: name 'packet' is not defined"
     ]
    }
   ],
   "source": [
    "# OR USE STUPIDARTNET FUNCTIONS\n",
    "a.flash_all()\t\t\t\t\t\t# send single packet with all channels at 255\n",
    "\n",
    "time.sleep(1)\t\t\t\t\t\t# wait a bit, 1 sec\n",
    "\n",
    "a.blackout()\t\t\t\t\t\t# send single packet with all channels at 0\n",
    "a.see_buffer()\n",
    "\n",
    "# ALL THE ABOVE EXAMPLES SEND A SINGLE DATAPACKET\n",
    "# STUPIDARTNET IS ALSO THREADABLE\n",
    "# TO SEND PERSISTANT SIGNAL YOU CAN START THE THREAD\n",
    "a.start()\t\t\t\t\t\t\t# start continuos sendin\n",
    "\n",
    "# AND MODIFY THE DATA AS YOU GO\n",
    "for x in range(100):\n",
    "    for i in range(packet_size):  \t# Fill buffer with random stuff\n",
    "        packet[i] = random.randint(0, 255)\n",
    "    a.set(packet)\n",
    "    time.sleep(.2)\n",
    "\n",
    "# SOME DEVICES WOULD HOLD LAST DATA, TURN ALL OFF WHEN DONE\n",
    "\n",
    "a.blackout()\n",
    "\n",
    "# ... REMEMBER TO CLOSE THE THREAD ONCE YOU ARE DONE\n",
    "a.stop()\n",
    "\n",
    "# CLEANUP IN THE END\n",
    "del a"
   ]
  },
  {
   "cell_type": "markdown",
   "id": "621a3248-e99f-4c63-bf1a-548454c674b5",
   "metadata": {},
   "source": [
    "### Loop"
   ]
  },
  {
   "cell_type": "code",
   "execution_count": 13,
   "id": "a398518e-c66f-4d8d-812a-4d25698cc3ae",
   "metadata": {},
   "outputs": [],
   "source": [
    "def live_color_picker(ip:str, num_lights:int, groups_mapping:dict,\n",
    "                      port=DEFAULT_PORT, universe_id=DEFAULT_UNIVERSE_ID,\n",
    "                      channel_start_id=DEFAULT_CHANNEL_START_ID,\n",
    "                      channel_width=DEFAULT_CHANNEL_WIDTH):\n",
    "    \"\"\"\n",
    "    \"\"\"\n",
    "    # Init connections\n",
    "    node, universe = create_connection(ip,port=port,universe_id=universe_id)\n",
    "    # Init channels\n",
    "    channel_dict = dict()\n",
    "    for i in range(num_lights):\n",
    "        create_channel(universe,channel_dict,str(i),\n",
    "                       channel_start_id+channel_width*i,\n",
    "                       channel_width)\n",
    "    # Lights\n",
    "    lights = []\n",
    "    for i in range(num_lights):\n",
    "        lights.append(Light(name=str(i),channel=channel_dict[str(i)]))\n",
    "    # Groups\n",
    "    groups = []\n",
    "    groups_mapping = {'group_0':lights[:3],'group_1':lights[3:]}\n",
    "    for group_id, group_lights in groups_mapping.items():\n",
    "        groups.append(Group(name=group_id, lights=group_lights))\n",
    "\n",
    "    # light Object Mapping\n",
    "    light_object_dict = [('light_'+str(i),lights[i]) for i in range(num_lights)]\n",
    "    light_object_dict.extend([('group_'+str(i),groups[i]) for i in range(len(groups))])\n",
    "    light_object_dict = dict(light_object_dict)\n",
    "    # UI Loop\n",
    "    UI_process(light_object_dict)"
   ]
  },
  {
   "cell_type": "code",
   "execution_count": 18,
   "id": "5b71e111-aff7-44d3-bb3e-822a4cb10111",
   "metadata": {},
   "outputs": [],
   "source": [
    "node, universe = create_connection('169.254.79.148')\n",
    "channel_dict = dict()\n",
    "for i in range(6):\n",
    "    create_channel(universe,channel_dict,str(i),\n",
    "                       1+11*i,\n",
    "                       11)\n",
    "# Lights\n",
    "lights = []\n",
    "for i in range(6):\n",
    "    lights.append(Light(name=str(i),channel=channel_dict[str(i)]))"
   ]
  },
  {
   "cell_type": "code",
   "execution_count": 16,
   "id": "0c8b07d3-6ef8-4957-b1b3-bdd98ed238ce",
   "metadata": {},
   "outputs": [
    {
     "ename": "RuntimeError",
     "evalue": "Cannot run the event loop while another loop is running",
     "output_type": "error",
     "traceback": [
      "\u001b[1;31m---------------------------------------------------------------------------\u001b[0m",
      "\u001b[1;31mRuntimeError\u001b[0m                              Traceback (most recent call last)",
      "Cell \u001b[1;32mIn[16], line 1\u001b[0m\n\u001b[1;32m----> 1\u001b[0m asyncio\u001b[38;5;241m.\u001b[39mrun( \u001b[43mcolor_popup\u001b[49m\u001b[43m(\u001b[49m\u001b[38;5;28;43;01mNone\u001b[39;49;00m\u001b[43m)\u001b[49m)\n",
      "Cell \u001b[1;32mIn[12], line 32\u001b[0m, in \u001b[0;36mcolor_popup\u001b[1;34m(light_object)\u001b[0m\n\u001b[0;32m     30\u001b[0m event_task \u001b[38;5;241m=\u001b[39m asyncio\u001b[38;5;241m.\u001b[39mensure_future(handle_events(event_queue, colour_picker_button, clock))\n\u001b[0;32m     31\u001b[0m \u001b[38;5;28;01mtry\u001b[39;00m:\n\u001b[1;32m---> 32\u001b[0m     \u001b[43mloop\u001b[49m\u001b[38;5;241;43m.\u001b[39;49m\u001b[43mrun_forever\u001b[49m\u001b[43m(\u001b[49m\u001b[43m)\u001b[49m\n\u001b[0;32m     33\u001b[0m \u001b[38;5;28;01mexcept\u001b[39;00m \u001b[38;5;167;01mKeyboardInterrupt\u001b[39;00m:\n\u001b[0;32m     34\u001b[0m     \u001b[38;5;28;01mpass\u001b[39;00m\n",
      "File \u001b[1;32m~\\anaconda3\\envs\\light\\lib\\asyncio\\base_events.py:560\u001b[0m, in \u001b[0;36mBaseEventLoop.run_forever\u001b[1;34m(self)\u001b[0m\n\u001b[0;32m    558\u001b[0m \u001b[38;5;250m\u001b[39m\u001b[38;5;124;03m\"\"\"Run until stop() is called.\"\"\"\u001b[39;00m\n\u001b[0;32m    559\u001b[0m \u001b[38;5;28mself\u001b[39m\u001b[38;5;241m.\u001b[39m_check_closed()\n\u001b[1;32m--> 560\u001b[0m \u001b[38;5;28;43mself\u001b[39;49m\u001b[38;5;241;43m.\u001b[39;49m\u001b[43m_check_running\u001b[49m\u001b[43m(\u001b[49m\u001b[43m)\u001b[49m\n\u001b[0;32m    561\u001b[0m \u001b[38;5;28mself\u001b[39m\u001b[38;5;241m.\u001b[39m_set_coroutine_origin_tracking(\u001b[38;5;28mself\u001b[39m\u001b[38;5;241m.\u001b[39m_debug)\n\u001b[0;32m    562\u001b[0m \u001b[38;5;28mself\u001b[39m\u001b[38;5;241m.\u001b[39m_thread_id \u001b[38;5;241m=\u001b[39m threading\u001b[38;5;241m.\u001b[39mget_ident()\n",
      "File \u001b[1;32m~\\anaconda3\\envs\\light\\lib\\asyncio\\base_events.py:554\u001b[0m, in \u001b[0;36mBaseEventLoop._check_running\u001b[1;34m(self)\u001b[0m\n\u001b[0;32m    552\u001b[0m     \u001b[38;5;28;01mraise\u001b[39;00m \u001b[38;5;167;01mRuntimeError\u001b[39;00m(\u001b[38;5;124m'\u001b[39m\u001b[38;5;124mThis event loop is already running\u001b[39m\u001b[38;5;124m'\u001b[39m)\n\u001b[0;32m    553\u001b[0m \u001b[38;5;28;01mif\u001b[39;00m events\u001b[38;5;241m.\u001b[39m_get_running_loop() \u001b[38;5;129;01mis\u001b[39;00m \u001b[38;5;129;01mnot\u001b[39;00m \u001b[38;5;28;01mNone\u001b[39;00m:\n\u001b[1;32m--> 554\u001b[0m     \u001b[38;5;28;01mraise\u001b[39;00m \u001b[38;5;167;01mRuntimeError\u001b[39;00m(\n\u001b[0;32m    555\u001b[0m         \u001b[38;5;124m'\u001b[39m\u001b[38;5;124mCannot run the event loop while another loop is running\u001b[39m\u001b[38;5;124m'\u001b[39m)\n",
      "\u001b[1;31mRuntimeError\u001b[0m: Cannot run the event loop while another loop is running"
     ]
    }
   ],
   "source": [
    "asyncio.run( color_popup(None))"
   ]
  },
  {
   "cell_type": "code",
   "execution_count": 27,
   "id": "3a88b84b-ea65-47f3-88a1-cb04171f9e29",
   "metadata": {},
   "outputs": [
    {
     "name": "stdout",
     "output_type": "stream",
     "text": [
      "UUU\n",
      "UUU\n",
      "UUU\n",
      "UUU\n",
      "UUU\n",
      "UUU\n"
     ]
    },
    {
     "name": "stderr",
     "output_type": "stream",
     "text": [
      "Task exception was never retrieved\n",
      "future: <Task finished name='Task-6' coro=<handle_events() done, defined at C:\\Users\\jerem\\AppData\\Local\\Temp\\ipykernel_18548\\2984433856.py:6> exception=NameError(\"name 'clock' is not defined\")>\n",
      "Traceback (most recent call last):\n",
      "  File \"C:\\Users\\jerem\\AppData\\Local\\Temp\\ipykernel_18548\\2984433856.py\", line 8, in handle_events\n",
      "    time_delta = clock.tick(60) / 1000\n",
      "NameError: name 'clock' is not defined\n",
      "Task exception was never retrieved\n",
      "future: <Task finished name='Task-7' coro=<handle_events() done, defined at C:\\Users\\jerem\\AppData\\Local\\Temp\\ipykernel_18548\\2984433856.py:6> exception=NameError(\"name 'clock' is not defined\")>\n",
      "Traceback (most recent call last):\n",
      "  File \"C:\\Users\\jerem\\AppData\\Local\\Temp\\ipykernel_18548\\2984433856.py\", line 8, in handle_events\n",
      "    time_delta = clock.tick(60) / 1000\n",
      "NameError: name 'clock' is not defined\n",
      "Task exception was never retrieved\n",
      "future: <Task finished name='Task-8' coro=<handle_events() done, defined at C:\\Users\\jerem\\AppData\\Local\\Temp\\ipykernel_18548\\2984433856.py:6> exception=NameError(\"name 'clock' is not defined\")>\n",
      "Traceback (most recent call last):\n",
      "  File \"C:\\Users\\jerem\\AppData\\Local\\Temp\\ipykernel_18548\\2984433856.py\", line 8, in handle_events\n",
      "    time_delta = clock.tick(60) / 1000\n",
      "NameError: name 'clock' is not defined\n",
      "Task exception was never retrieved\n",
      "future: <Task finished name='Task-9' coro=<handle_events() done, defined at C:\\Users\\jerem\\AppData\\Local\\Temp\\ipykernel_18548\\2984433856.py:6> exception=NameError(\"name 'clock' is not defined\")>\n",
      "Traceback (most recent call last):\n",
      "  File \"C:\\Users\\jerem\\AppData\\Local\\Temp\\ipykernel_18548\\2984433856.py\", line 8, in handle_events\n",
      "    time_delta = clock.tick(60) / 1000\n",
      "NameError: name 'clock' is not defined\n",
      "Task exception was never retrieved\n",
      "future: <Task finished name='Task-10' coro=<handle_events() done, defined at C:\\Users\\jerem\\AppData\\Local\\Temp\\ipykernel_18548\\2984433856.py:6> exception=NameError(\"name 'clock' is not defined\")>\n",
      "Traceback (most recent call last):\n",
      "  File \"C:\\Users\\jerem\\AppData\\Local\\Temp\\ipykernel_18548\\2984433856.py\", line 8, in handle_events\n",
      "    time_delta = clock.tick(60) / 1000\n",
      "NameError: name 'clock' is not defined\n",
      "Task exception was never retrieved\n",
      "future: <Task finished name='Task-11' coro=<handle_events() done, defined at C:\\Users\\jerem\\AppData\\Local\\Temp\\ipykernel_18548\\2984433856.py:6> exception=NameError(\"name 'clock' is not defined\")>\n",
      "Traceback (most recent call last):\n",
      "  File \"C:\\Users\\jerem\\AppData\\Local\\Temp\\ipykernel_18548\\2984433856.py\", line 8, in handle_events\n",
      "    time_delta = clock.tick(60) / 1000\n",
      "NameError: name 'clock' is not defined\n",
      "Future exception was never retrieved\n",
      "future: <Future finished exception=error('video system not initialized')>\n",
      "Traceback (most recent call last):\n",
      "  File \"C:\\Users\\jerem\\anaconda3\\envs\\light\\lib\\concurrent\\futures\\thread.py\", line 57, in run\n",
      "    result = self.fn(*self.args, **self.kwargs)\n",
      "  File \"C:\\Users\\jerem\\AppData\\Local\\Temp\\ipykernel_18548\\2984433856.py\", line 3, in pygame_event_loop\n",
      "    event = pygame.event.wait()\n",
      "pygame.error: video system not initialized\n",
      "Future exception was never retrieved\n",
      "future: <Future finished exception=error('video system not initialized')>\n",
      "Traceback (most recent call last):\n",
      "  File \"C:\\Users\\jerem\\anaconda3\\envs\\light\\lib\\concurrent\\futures\\thread.py\", line 57, in run\n",
      "    result = self.fn(*self.args, **self.kwargs)\n",
      "  File \"C:\\Users\\jerem\\AppData\\Local\\Temp\\ipykernel_18548\\2984433856.py\", line 3, in pygame_event_loop\n",
      "    event = pygame.event.wait()\n",
      "pygame.error: video system not initialized\n",
      "Future exception was never retrieved\n",
      "future: <Future finished exception=error('video system not initialized')>\n",
      "Traceback (most recent call last):\n",
      "  File \"C:\\Users\\jerem\\anaconda3\\envs\\light\\lib\\concurrent\\futures\\thread.py\", line 57, in run\n",
      "    result = self.fn(*self.args, **self.kwargs)\n",
      "  File \"C:\\Users\\jerem\\AppData\\Local\\Temp\\ipykernel_18548\\2984433856.py\", line 3, in pygame_event_loop\n",
      "    event = pygame.event.wait()\n",
      "pygame.error: video system not initialized\n",
      "Future exception was never retrieved\n",
      "future: <Future finished exception=error('video system not initialized')>\n",
      "Traceback (most recent call last):\n",
      "  File \"C:\\Users\\jerem\\anaconda3\\envs\\light\\lib\\concurrent\\futures\\thread.py\", line 57, in run\n",
      "    result = self.fn(*self.args, **self.kwargs)\n",
      "  File \"C:\\Users\\jerem\\AppData\\Local\\Temp\\ipykernel_18548\\2984433856.py\", line 3, in pygame_event_loop\n",
      "    event = pygame.event.wait()\n",
      "pygame.error: video system not initialized\n",
      "Future exception was never retrieved\n",
      "future: <Future finished exception=error('video system not initialized')>\n",
      "Traceback (most recent call last):\n",
      "  File \"C:\\Users\\jerem\\anaconda3\\envs\\light\\lib\\concurrent\\futures\\thread.py\", line 57, in run\n",
      "    result = self.fn(*self.args, **self.kwargs)\n",
      "  File \"C:\\Users\\jerem\\AppData\\Local\\Temp\\ipykernel_18548\\2984433856.py\", line 3, in pygame_event_loop\n",
      "    event = pygame.event.wait()\n",
      "pygame.error: video system not initialized\n",
      "Future exception was never retrieved\n",
      "future: <Future finished exception=error('video system not initialized')>\n",
      "Traceback (most recent call last):\n",
      "  File \"C:\\Users\\jerem\\anaconda3\\envs\\light\\lib\\concurrent\\futures\\thread.py\", line 57, in run\n",
      "    result = self.fn(*self.args, **self.kwargs)\n",
      "  File \"C:\\Users\\jerem\\AppData\\Local\\Temp\\ipykernel_18548\\2984433856.py\", line 3, in pygame_event_loop\n",
      "    event = pygame.event.wait()\n",
      "pygame.error: video system not initialized\n"
     ]
    }
   ],
   "source": [
    "live_color_picker('169.254.79.148',6,{'group_1':[]})"
   ]
  },
  {
   "cell_type": "markdown",
   "id": "97d5cc4d-b77d-4194-b898-489209960c9c",
   "metadata": {
    "jp-MarkdownHeadingCollapsed": true
   },
   "source": [
    "### Artnet"
   ]
  },
  {
   "cell_type": "code",
   "execution_count": 10,
   "id": "6fec4923-03e8-4f82-b4c0-6d693e7e28ba",
   "metadata": {},
   "outputs": [],
   "source": [
    "channel_dict, state_dict = init_channels('169.254.79.148',['main','ambiance'])"
   ]
  },
  {
   "cell_type": "code",
   "execution_count": 27,
   "id": "9697b60a-b06a-468e-9b88-09f3223adfeb",
   "metadata": {},
   "outputs": [],
   "source": [
    "send_rgb(channel_dict,'main',[120,0,50],state_dict)"
   ]
  },
  {
   "cell_type": "code",
   "execution_count": 28,
   "id": "0017e5bd-e757-4207-bf60-26809d78e23a",
   "metadata": {},
   "outputs": [],
   "source": [
    "send_rgb(channel_dict,'ambiance',[20,0,120],state_dict)"
   ]
  },
  {
   "cell_type": "code",
   "execution_count": 29,
   "id": "67310353-ab36-4c17-8301-1975c6040967",
   "metadata": {},
   "outputs": [],
   "source": [
    "send_amber(channel_dict,'main',50,state_dict)"
   ]
  },
  {
   "cell_type": "code",
   "execution_count": 19,
   "id": "a376c1a7-098e-4fff-a3b5-c702a44ed4b5",
   "metadata": {},
   "outputs": [],
   "source": [
    "send_uv(channel_dict,'main',0,state_dict)"
   ]
  },
  {
   "cell_type": "code",
   "execution_count": 20,
   "id": "9d292648-b697-4df8-a1bd-13de2f33eafd",
   "metadata": {},
   "outputs": [],
   "source": [
    "send_amber(channel_dict,'ambiance',255,state_dict)"
   ]
  },
  {
   "cell_type": "markdown",
   "id": "10606e3e-f08d-416d-85e9-31897e350085",
   "metadata": {},
   "source": [
    "---"
   ]
  },
  {
   "cell_type": "code",
   "execution_count": 13,
   "id": "142c7104-0413-4d9e-9904-d4b3347e3d39",
   "metadata": {},
   "outputs": [],
   "source": [
    "turn_off_channel(channel_dict,'main')\n",
    "turn_off_channel(channel_dict,'ambiance')"
   ]
  },
  {
   "cell_type": "markdown",
   "id": "1ace0647-fd7b-49e3-b3b0-bcb51b974b9b",
   "metadata": {
    "jp-MarkdownHeadingCollapsed": true
   },
   "source": [
    "### Async"
   ]
  },
  {
   "cell_type": "code",
   "execution_count": null,
   "id": "919a03ac-553a-4f5e-97d9-88535fa1cc4c",
   "metadata": {},
   "outputs": [],
   "source": [
    "async def main_async():\n",
    "    # Run this code in your async function\n",
    "    node = ArtNetNode('169.254.79.148',6454)\n",
    "\n",
    "    # Create universe 0\n",
    "    universe = node.add_universe(1)\n",
    "\n",
    "    # Add a channel to the universe which consists of 3 values\n",
    "    # Default size of a value is 8Bit (0..255) so this would fill\n",
    "    # the DMX values 1..3 of the universe\n",
    "    channel = universe.add_channel(start=1, width=11)\n",
    "\n",
    "    # Fade channel to 255,0,0 in 5s\n",
    "    # The fade will automatically run in the background\n",
    "    channel.add_fade([255,0,0,0,255,0,0,0,0,0,0],1000)\n",
    "\n",
    "    # this can be used to wait till the fade is complete\n",
    "    await channel"
   ]
  },
  {
   "cell_type": "markdown",
   "id": "3603de0f-e99a-426f-971b-5e3a554c6c2b",
   "metadata": {
    "jp-MarkdownHeadingCollapsed": true
   },
   "source": [
    "### Process"
   ]
  },
  {
   "cell_type": "code",
   "execution_count": 3,
   "id": "b263e83a-33f3-4c55-a673-c4c6ed7f35b4",
   "metadata": {},
   "outputs": [],
   "source": [
    "node = ArtNetNode('169.254.79.148',6454)"
   ]
  },
  {
   "cell_type": "code",
   "execution_count": 4,
   "id": "fbfe60a5-91b2-4627-8742-7fcac0791644",
   "metadata": {},
   "outputs": [],
   "source": [
    "universe = node.add_universe(1)"
   ]
  },
  {
   "cell_type": "code",
   "execution_count": 5,
   "id": "0621c4a3-2b9e-4d0e-ae7c-577c387f0a80",
   "metadata": {},
   "outputs": [],
   "source": [
    "channel = universe.add_channel(start=1, width=11)"
   ]
  },
  {
   "cell_type": "code",
   "execution_count": 16,
   "id": "65ad7a4d-1e06-4551-b0a8-a42e6423bf9e",
   "metadata": {
    "scrolled": true
   },
   "outputs": [
    {
     "data": {
      "text/plain": [
       "<Channel 1/11 8bit>"
      ]
     },
     "execution_count": 16,
     "metadata": {},
     "output_type": "execute_result"
    }
   ],
   "source": [
    "channel.set_values([255,0,0,120,40,10,80,250,0,0,0])"
   ]
  }
 ],
 "metadata": {
  "kernelspec": {
   "display_name": "Python 3 (ipykernel)",
   "language": "python",
   "name": "python3"
  },
  "language_info": {
   "codemirror_mode": {
    "name": "ipython",
    "version": 3
   },
   "file_extension": ".py",
   "mimetype": "text/x-python",
   "name": "python",
   "nbconvert_exporter": "python",
   "pygments_lexer": "ipython3",
   "version": "3.8.17"
  }
 },
 "nbformat": 4,
 "nbformat_minor": 5
}
