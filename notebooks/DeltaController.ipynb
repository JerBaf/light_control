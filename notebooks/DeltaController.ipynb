{
 "cells": [
  {
   "cell_type": "markdown",
   "id": "88947596-18cc-4d04-9b04-d788a3bc5e42",
   "metadata": {},
   "source": [
    "# Delta Project Controller"
   ]
  },
  {
   "cell_type": "markdown",
   "id": "c119be7f-e2ea-4f0e-936e-bfbb7315f255",
   "metadata": {
    "jp-MarkdownHeadingCollapsed": true
   },
   "source": [
    "### Packages"
   ]
  },
  {
   "cell_type": "code",
   "execution_count": 1,
   "id": "c6908462-5554-4cd6-8f26-5c1325fad9fc",
   "metadata": {},
   "outputs": [
    {
     "name": "stdout",
     "output_type": "stream",
     "text": [
      "pygame-ce 2.3.0 (SDL 2.26.4, Python 3.8.17)\n"
     ]
    }
   ],
   "source": [
    "from stupidArtnet import StupidArtnet\n",
    "import pygame\n",
    "import sys\n",
    "import time\n",
    "import pygame_gui\n",
    "import PySimpleGUI as sg\n",
    "from pygame_gui.elements import UIButton\n",
    "from pygame_gui.windows import UIColourPickerDialog"
   ]
  },
  {
   "cell_type": "markdown",
   "id": "dad90eb6-65b0-4720-bcc4-094c136db96b",
   "metadata": {
    "jp-MarkdownHeadingCollapsed": true
   },
   "source": [
    "### Constants"
   ]
  },
  {
   "cell_type": "code",
   "execution_count": 2,
   "id": "258c8027-287e-40e9-ba93-d5ea1a4a03db",
   "metadata": {},
   "outputs": [],
   "source": [
    "# Setup Constants\n",
    "DEFAULT_PORT = 6454\n",
    "DEFAULT_UNIVERSE_ID = 1\n",
    "DEFAULT_CHANNEL_START_ID = 1\n",
    "DEFAULT_CHANNEL_WIDTH = 11\n",
    "# Control Constants\n",
    "DIMMER_ID = 1\n",
    "DIMMER_FINE_ID = 2\n",
    "STROBE_ID = 3\n",
    "RED_ID = 4\n",
    "GREEN_ID = 5\n",
    "BLUE_ID = 6\n",
    "WHITE_ID = 7\n",
    "AMBER_ID = 8\n",
    "UV_ID = 9\n",
    "PRESET_ID = 10\n",
    "SOUND_ID = 11\n",
    "DEFAULT_LIGHT_VALUE = [255]+[0]*(DEFAULT_CHANNEL_WIDTH-1)\n",
    "RESET_VALUE = [0]*DEFAULT_CHANNEL_WIDTH\n",
    "LIGHT_OFF_VALUE = RESET_VALUE\n",
    "# Mappings\n",
    "FIXTURE_TO_ID_DICT = {'Dimmer':DIMMER_ID,'Dimmer_Fine':DIMMER_FINE_ID,\n",
    "                    'Strobe':STROBE_ID,'Red':RED_ID,'Green':GREEN_ID,\n",
    "                    'Blue':BLUE_ID,'White':WHITE_ID,'Amber':AMBER_ID,\n",
    "                    'UV':UV_ID,'Preset':PRESET_ID,'Sound':SOUND_ID}\n",
    "ID_TO_FIXTURE_DICT = dict([(i,fixture) for fixture,i in FIXTURE_TO_ID_DICT.items()])"
   ]
  },
  {
   "cell_type": "markdown",
   "id": "ba9ba7c5-9165-4ac5-b2a6-ec298459ea6a",
   "metadata": {
    "jp-MarkdownHeadingCollapsed": true
   },
   "source": [
    "### Code"
   ]
  },
  {
   "cell_type": "markdown",
   "id": "9cd12552-bc3f-4289-8436-e8df6378b089",
   "metadata": {
    "jp-MarkdownHeadingCollapsed": true
   },
   "source": [
    "#### Objects"
   ]
  },
  {
   "cell_type": "code",
   "execution_count": 3,
   "id": "ed12bba4-89aa-4fbf-abf3-b5ab866e7759",
   "metadata": {},
   "outputs": [],
   "source": [
    "class Channel:\n",
    "    \"\"\"\n",
    "    \"\"\"\n",
    "    def __init__(self,server:StupidArtnet,channel_start:int,channel_width:int):\n",
    "        \"\"\"\n",
    "        \"\"\"\n",
    "        self.server = server\n",
    "        self.channel_start = channel_start\n",
    "        self.channel_width = channel_width\n",
    "        self.offset = (channel_start-1)*channel_width\n",
    "\n",
    "    def set_value(self,fixture_id:int,value:int,show=True):\n",
    "        \"\"\"\n",
    "        \"\"\"\n",
    "        if value < 0 or value > 255:\n",
    "            raise ValueError(f'The value for {ID_TO_FIXTURE_DICT[fixture_id]} should be contained in [0,255]')\n",
    "        self.server.set_single_value(self.offset+fixture_id,value)\n",
    "        time.sleep(0.002)\n",
    "        if show:\n",
    "            self.server.show()\n",
    "        time.sleep(0.002)\n",
    "\n",
    "    def set_values(self,values:list):\n",
    "        \"\"\"\n",
    "        \"\"\"\n",
    "        if len(values) != self.channel_width:\n",
    "            raise ValueError(f'The list of values sent by the channel must be of size equal to the channel width: {self.channel_width}')\n",
    "        for fixture_id, value in enumerate(values):\n",
    "            self.set_value(fixture_id+1, value, show=False)\n",
    "\n",
    "    def reset(self):\n",
    "        \"\"\" \"\"\"\n",
    "        self.set_values(RESET_VALUE)\n",
    "\n",
    "class LightSource:\n",
    "    \"\"\" Abstract Light Source Object \"\"\"\n",
    "    \n",
    "    def __init__(self,name:str,state=DEFAULT_LIGHT_VALUE.copy()):\n",
    "        \"\"\" Instantiate the Light Source, defined by a name and a state. \"\"\"\n",
    "        self.name = name\n",
    "        self.state = state\n",
    "\n",
    "    def set_fixture_value(self,fixture_id:int, value:int):\n",
    "        \"\"\" Define the value of a fixture. \"\"\"\n",
    "\n",
    "    def set_fixture_values(self,fixture_id:int, value:int):\n",
    "        \"\"\" Define the values of all fixtures. \"\"\"\n",
    "\n",
    "    def blink():\n",
    "        \"\"\" Make the Light Source Blink. \"\"\"\n",
    "\n",
    "    def set_rgb(self, values:list):\n",
    "        \"\"\" Define the RGB values. \"\"\"\n",
    "\n",
    "    def turn_off(self):\n",
    "        \"\"\" Turn off the Light Source\"\"\"\n",
    "\n",
    "    def turn_on(self):\n",
    "        \"\"\" Turn on the Light Source\"\"\"\n",
    "\n",
    "    def reset(self):\n",
    "        \"\"\" Reset the Light Source to its default state. \"\"\"\n",
    "\n",
    "\n",
    "class Light(LightSource):\n",
    "    \"\"\"\n",
    "    Light object class. A light is model by the channel to which\n",
    "    it is linked and a state. The latter is a list containing the \n",
    "    values for each of the fixture in the channel. \n",
    "    \n",
    "    \"\"\"\n",
    "    \n",
    "    def __init__(self,name:str, channel:Channel):\n",
    "        \"\"\"\n",
    "        Create a Light instance.\n",
    "\n",
    "        :param name: String identifier for the light. If the light is used in a Group,\n",
    "                     please be sure to enter unique identifiers.\n",
    "        :param channel: ArtNet channel object to which the light is bound. \n",
    "\n",
    "        \"\"\"\n",
    "        super().__init__(name)\n",
    "        self.channel = channel\n",
    "        self.group_name = ''\n",
    "        \n",
    "    def set_fixture_value(self,fixture_id:int,value:int):\n",
    "        \"\"\"\n",
    "        Set the fixture to the given value.\n",
    "\n",
    "        :param fixture_id: Id of the fixture to be set.\n",
    "        :param value: Integer value of the fixture, should be contained in [0,255].\n",
    "        \n",
    "        \"\"\"\n",
    "        new_state = self.state.copy()\n",
    "        new_state[fixture_id-1] = value\n",
    "        self.channel.set_value(fixture_id, value)\n",
    "        self.state = new_state\n",
    "\n",
    "    def set_fixture_values(self,values=[]):\n",
    "        \"\"\"\n",
    "        Set the fixtures to the given list of values.\n",
    "\n",
    "        :param values: Ordered list of values to be set.\n",
    "        \n",
    "        \"\"\"\n",
    "        self.channel.set_values(values)\n",
    "        new_state = values\n",
    "        self.state = new_state\n",
    "\n",
    "    def set_rgb(self, values:list):\n",
    "        \"\"\"\n",
    "        Set the RGB fixtures to the color code given in values.\n",
    "\n",
    "        :param values: List containing the values for the red, green and blue fixtures.\n",
    "        \n",
    "        \"\"\"\n",
    "        for idx, fixture_id in enumerate([RED_ID,GREEN_ID,BLUE_ID]):\n",
    "            self.set_fixture_value(fixture_id,values[idx])\n",
    "\n",
    "    def blink(self,blink_time=0.2,n_repeat=3):\n",
    "        \"\"\" \"\"\"\n",
    "        prev_state = self.state.copy()\n",
    "        self.turn_off()\n",
    "        time.sleep(blink_time)\n",
    "        self.reset()\n",
    "        self.set_fixture_value(WHITE_ID, 255)\n",
    "        for i in range(n_repeat):\n",
    "            time.sleep(blink_time)\n",
    "            self.turn_on()\n",
    "            time.sleep(blink_time)\n",
    "            self.turn_off()\n",
    "        self.set_fixture_values(prev_state)\n",
    "        self.turn_on()\n",
    "\n",
    "    def turn_off(self):\n",
    "        \"\"\" Turn off the light by setting dimmer to 0. \"\"\"\n",
    "        self.set_fixture_value(DIMMER_ID,0)\n",
    "\n",
    "    def turn_on(self):\n",
    "        \"\"\" Turn on the light by setting dimmer to 255. \"\"\"\n",
    "        self.set_fixture_value(DIMMER_ID,255)\n",
    "\n",
    "    def reset(self):\n",
    "        \"\"\" Reset the light to its default state, i.e. zero value for each fixture. \"\"\"\n",
    "        self.turn_off()\n",
    "        self.channel.reset()\n",
    "        new_state = RESET_VALUE\n",
    "        self.state = new_state\n",
    "\n",
    "class Group(LightSource):\n",
    "    \"\"\"\n",
    "    Group object class. A group is modeled by a list\n",
    "    of lights. Every action applied to the group\n",
    "    will be executed on all lights present. Each light in the \n",
    "    group should be unique and have a unique name.\n",
    "    \n",
    "    \"\"\"\n",
    "    \n",
    "    def __init__(self,name:str, lights=[]):\n",
    "        \"\"\"\n",
    "        Create a Group instance.\n",
    "\n",
    "        :param name: String identifier for the group of lights.\n",
    "        :param lights: List containing the initial lights of the group,\n",
    "                       empty by default. All lights should be unique.\n",
    "        \n",
    "        \"\"\"\n",
    "        super().__init__(name)\n",
    "        self.lights = []\n",
    "        self.light_names = set()\n",
    "        if len(self.light_names) != len(self.lights):\n",
    "            raise ValueError('Duplicate names in the list of lights provided to the Group constructor')\n",
    "        for l in lights:\n",
    "            self.add_light(l)\n",
    "\n",
    "    def add_light(self,light:Light):\n",
    "        \"\"\"\n",
    "        Add a light to the existing pool. Must be a new unique light.\n",
    "\n",
    "        :param light. Light object to add to the existing pool of lights in the group.\n",
    "        \n",
    "        \"\"\"\n",
    "        if light.name in self.light_name:\n",
    "            raise ValueError('Tried to add a light whose name is already present in the group.')\n",
    "        if light.group_name != '' and light.group_name != self.name:\n",
    "            raise ValueError('Tried to add a light which is already present in another group.') \n",
    "        self.lights.append(light)\n",
    "        light.set_fixture_values(self.state)\n",
    "        light.group_name = self.name\n",
    "        self.light_names = self.light_names.union(set(light.name))\n",
    "\n",
    "    def remove_light(self,light_name:str):\n",
    "        \"\"\"\n",
    "        Remove a light from the existing pool.\n",
    "\n",
    "        :param light_name: Identifier of the light to be removed.\n",
    "        \n",
    "        \"\"\"\n",
    "        light.group_name = ''\n",
    "        self.light_names = self.light_names.difference()\n",
    "        self.lights = [l for l in self.lights if l.name != light_name]\n",
    "        self.light.reset()\n",
    "        \n",
    "        \n",
    "    def set_fixture_value(self, fixture_id:int, value:int):\n",
    "        \"\"\"\n",
    "        Set the given fixture to 'value' for all lights in the group.\n",
    "\n",
    "        :param fixture_id: Id of the fixture to be set.\n",
    "        :param value: Integer value of the fixture, should be contained in [0,255].\n",
    "        \n",
    "        \"\"\"\n",
    "        for l in self.lights:\n",
    "            l.set_fixture_value(fixture_id,value)\n",
    "\n",
    "    def set_rgb(self, values:list):\n",
    "        \"\"\"\n",
    "        Set the RGB fixtures to the color code given in values.\n",
    "\n",
    "        :param values: List containing the values for the red, green and blue fixtures.\n",
    "        \n",
    "        \"\"\"\n",
    "        for idx, fixture_id in enumerate([RED_ID,GREEN_ID,BLUE_ID]):\n",
    "            self.set_fixture_value(fixture_id,values[idx])\n",
    "\n",
    "    def blink(self):\n",
    "        \"\"\" Make all lights in the group blink. \"\"\"\n",
    "        for l in self.lights:\n",
    "            l.blink()\n",
    "\n",
    "    def turn_off(self):\n",
    "        \"\"\" Turn off the light by setting dimmer to 0. \"\"\"\n",
    "        self.set_fixture_value(DIMMER_ID,0)\n",
    "\n",
    "    def turn_on(self):\n",
    "        \"\"\" Turn on the light by setting dimmer to 255. \"\"\"\n",
    "        self.set_fixture_value(DIMMER_ID,255)\n",
    "\n",
    "    def reset(self):\n",
    "        \"\"\" Reset all lights in the group to their default states, i.e. zero value for each fixture. \"\"\"\n",
    "        for l in self.lights:\n",
    "            l.reset()"
   ]
  },
  {
   "cell_type": "markdown",
   "id": "78a01cb3-02f8-4bfa-9c7b-12ed390e4709",
   "metadata": {},
   "source": [
    "#### Helpers"
   ]
  },
  {
   "cell_type": "markdown",
   "id": "9a94d879-630a-4ee1-88f8-9ea3daa3a84a",
   "metadata": {},
   "source": [
    "#### GUI"
   ]
  },
  {
   "cell_type": "markdown",
   "id": "dfdde2ae-68ec-4f23-b33f-e149013a2cea",
   "metadata": {},
   "source": [
    "#### Events Loop"
   ]
  },
  {
   "cell_type": "markdown",
   "id": "7b2e5194-cbb5-41f5-bbb9-676075fd0d0c",
   "metadata": {
    "jp-MarkdownHeadingCollapsed": true
   },
   "source": [
    "#### Tests"
   ]
  },
  {
   "cell_type": "code",
   "execution_count": 4,
   "id": "80c54536-e423-47fd-a827-c3cd27996338",
   "metadata": {},
   "outputs": [],
   "source": [
    "server = StupidArtnet('169.254.79.148', 1, 512, 30, True, True)"
   ]
  },
  {
   "cell_type": "code",
   "execution_count": 5,
   "id": "c6ef1a9e-fb1a-48c6-a2b9-c70e20872ca3",
   "metadata": {},
   "outputs": [],
   "source": [
    "c = Channel(server,1,11)"
   ]
  },
  {
   "cell_type": "code",
   "execution_count": 6,
   "id": "764ef307-1f2c-46f9-ba14-42dfd2310df0",
   "metadata": {},
   "outputs": [],
   "source": [
    "l = Light('test',c)"
   ]
  },
  {
   "cell_type": "code",
   "execution_count": 7,
   "id": "0ddbba69-f467-4670-898d-ad31e32b79b3",
   "metadata": {},
   "outputs": [],
   "source": [
    "l.set_rgb([255,0,255])"
   ]
  },
  {
   "cell_type": "code",
   "execution_count": 8,
   "id": "8f16adf0-5346-428a-a287-19e0af3bc067",
   "metadata": {},
   "outputs": [],
   "source": [
    "l.turn_on()"
   ]
  },
  {
   "cell_type": "code",
   "execution_count": 9,
   "id": "06bf7ad9-7cd7-4063-a4a7-97372c07ae18",
   "metadata": {},
   "outputs": [],
   "source": [
    "l.turn_off()"
   ]
  },
  {
   "cell_type": "code",
   "execution_count": 10,
   "id": "48b24495-c9f3-4c38-9672-7ba904f5e7ff",
   "metadata": {},
   "outputs": [],
   "source": [
    "l.blink()"
   ]
  }
 ],
 "metadata": {
  "kernelspec": {
   "display_name": "Python 3 (ipykernel)",
   "language": "python",
   "name": "python3"
  },
  "language_info": {
   "codemirror_mode": {
    "name": "ipython",
    "version": 3
   },
   "file_extension": ".py",
   "mimetype": "text/x-python",
   "name": "python",
   "nbconvert_exporter": "python",
   "pygments_lexer": "ipython3",
   "version": "3.8.17"
  }
 },
 "nbformat": 4,
 "nbformat_minor": 5
}
