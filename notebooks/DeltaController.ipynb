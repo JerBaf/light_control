{
 "cells": [
  {
   "cell_type": "markdown",
   "id": "88947596-18cc-4d04-9b04-d788a3bc5e42",
   "metadata": {},
   "source": [
    "# Delta Project Controller"
   ]
  },
  {
   "cell_type": "markdown",
   "id": "c119be7f-e2ea-4f0e-936e-bfbb7315f255",
   "metadata": {},
   "source": [
    "### Packages"
   ]
  },
  {
   "cell_type": "code",
   "execution_count": 2,
   "id": "c6908462-5554-4cd6-8f26-5c1325fad9fc",
   "metadata": {},
   "outputs": [
    {
     "name": "stdout",
     "output_type": "stream",
     "text": [
      "pygame 1.9.6\n",
      "Hello from the pygame community. https://www.pygame.org/contribute.html\n"
     ]
    }
   ],
   "source": [
    "from stupidArtnet import StupidArtnet\n",
    "import copy\n",
    "import random\n",
    "import string\n",
    "import sys\n",
    "import time\n",
    "import os\n",
    "import PySimpleGUI as sg\n",
    "import pygame_gui\n",
    "import pygame\n",
    "from pygame.event import Event\n",
    "from pygame_gui.elements import UIButton\n",
    "from pygame_gui.windows import UIColourPickerDialog\n",
    "from pynput.mouse import Listener\n",
    "import pyautogui\n",
    "import json\n",
    "from PIL import Image, ImageGrab"
   ]
  },
  {
   "cell_type": "markdown",
   "id": "dad90eb6-65b0-4720-bcc4-094c136db96b",
   "metadata": {},
   "source": [
    "### Constants"
   ]
  },
  {
   "cell_type": "code",
   "execution_count": 3,
   "id": "258c8027-287e-40e9-ba93-d5ea1a4a03db",
   "metadata": {},
   "outputs": [],
   "source": [
    "# Setup Constants\n",
    "DEFAULT_PACKET_SIZE = 512\n",
    "DEFAULT_FPS = 40\n",
    "ENFORCE_EVEN_PACKET = True\n",
    "ENFORCE_BROADCAST = True\n",
    "DEFAULT_UNIVERSE_ID = 1\n",
    "DEFAULT_CHANNEL_START_ID = 1\n",
    "DEFAULT_CHANNEL_WIDTH = 11\n",
    "PRESETS_PATH = '../presets/preset.json'\n",
    "BITFOCUS_CONFIG_FOLDER = '../config/'\n",
    "BITFOCUS_CONFIG_PATH = BITFOCUS_CONFIG_FOLDER+'bitfocus_config.json'\n",
    "DEFAULT_IP = '169.254.79.148'\n",
    "PRESET_BUTTON_PREFIX = 'preset_group_'\n",
    "# Control Constants\n",
    "DIMMER_ID = 1\n",
    "DIMMER_FINE_ID = 2\n",
    "STROBE_ID = 3\n",
    "RED_ID = 4\n",
    "GREEN_ID = 5\n",
    "BLUE_ID = 6\n",
    "WHITE_ID = 7\n",
    "AMBER_ID = 8\n",
    "UV_ID = 9\n",
    "PRESET_ID = 10\n",
    "SOUND_ID = 11\n",
    "DEFAULT_LIGHT_VALUE = [255]+[0]*(DEFAULT_CHANNEL_WIDTH-1)\n",
    "RESET_VALUE = [0]*DEFAULT_CHANNEL_WIDTH\n",
    "LIGHT_OFF_VALUE = RESET_VALUE\n",
    "# Config\n",
    "MAX_BUTTON_ID = 32\n",
    "DEFAULT_FADE_TIME = 750\n",
    "DEFAULT_ID_LENGTH = 21\n",
    "# Mappings\n",
    "FIXTURE_TO_ID_DICT = {'dimmer':DIMMER_ID,'red':RED_ID,'green':GREEN_ID,\n",
    "                    'blue':BLUE_ID,'white':WHITE_ID,'amber':AMBER_ID,\n",
    "                    'uv':UV_ID}\n",
    "ID_TO_FIXTURE_DICT = dict([(i,fixture) for fixture,i in FIXTURE_TO_ID_DICT.items()])\n",
    "DEFAULT_GROUPS = {'group_1':['light_1','light_3','light_5'],\n",
    "                  'group_2':['light_2','light_4','light_6']}\n",
    "# Events\n",
    "LIGHT_SELECTION_EVENTS = {'group_1','group_2','light_1','light_2','light_3',\n",
    "              'light_4','light_5','light_6'}\n",
    "LIGHT_FIXTURE_EVENTS = set(['slider_'+fixture for fixture in FIXTURE_TO_ID_DICT.keys()])"
   ]
  },
  {
   "cell_type": "markdown",
   "id": "ba9ba7c5-9165-4ac5-b2a6-ec298459ea6a",
   "metadata": {},
   "source": [
    "### Code"
   ]
  },
  {
   "cell_type": "markdown",
   "id": "9cd12552-bc3f-4289-8436-e8df6378b089",
   "metadata": {
    "jp-MarkdownHeadingCollapsed": true
   },
   "source": [
    "#### Objects"
   ]
  },
  {
   "cell_type": "markdown",
   "id": "30d696a7-83cc-4c0f-a0f1-11eb69cd91f3",
   "metadata": {
    "jp-MarkdownHeadingCollapsed": true
   },
   "source": [
    "##### Channel"
   ]
  },
  {
   "cell_type": "code",
   "execution_count": 4,
   "id": "8f76a06e-7720-4423-903e-882851b75035",
   "metadata": {},
   "outputs": [],
   "source": [
    "class Channel:\n",
    "    \"\"\"\n",
    "    ArtNet Channel Object. A Channel is to a range of\n",
    "    fixture of size channel_width. It is modeled by a\n",
    "    simple part of the underlying artnet server. \n",
    "    \n",
    "    \"\"\"\n",
    "    def __init__(self,server:StupidArtnet,channel_start:int,channel_width:int):\n",
    "        \"\"\"\n",
    "        Instantiate an ArtNet Channel object.\n",
    "\n",
    "        :param server: ArtNet server to communicate with the lights.\n",
    "        :param channel_start: Id of the starting DMX address.\n",
    "        :param channel_width: Width of the channel, equal to fixture number.\n",
    "        \n",
    "        \"\"\"\n",
    "        self.server = server\n",
    "        self.channel_start = channel_start\n",
    "        self.channel_width = channel_width\n",
    "        self.offset = self.channel_start - 1\n",
    "\n",
    "    def set_value(self,fixture_id:int,value:int,show=True):\n",
    "        \"\"\"\n",
    "        Set the given fixture to the provided value.\n",
    "\n",
    "        :param fixture_id: Id of the DMX fixture.\n",
    "        :param value: Value of the fixture. Should be contained in [0,255].\n",
    "        :param show: If set to True, then the packet will be sent.\n",
    "        \n",
    "        \"\"\"\n",
    "        if value < 0 or value > 255:\n",
    "            raise ValueError(f'The value for {ID_TO_FIXTURE_DICT[fixture_id]} should be contained in [0,255]')\n",
    "        self.server.set_single_value(self.offset+fixture_id,value)\n",
    "        time.sleep(0.002)\n",
    "        if show:\n",
    "            self.server.show()\n",
    "        time.sleep(0.002)\n",
    "\n",
    "    def set_values(self,values:list):\n",
    "        \"\"\"\n",
    "        Set all the fixtures of the channel to the given list of values.\n",
    "\n",
    "        :param values: List of the fixtures values.\n",
    "        \n",
    "        \"\"\"\n",
    "        if len(values) != self.channel_width:\n",
    "            raise ValueError(f'The list of values sent by the channel must be of size equal to the channel width: {self.channel_width}')\n",
    "        for fixture_id, value in enumerate(values):\n",
    "            self.set_value(fixture_id+1, value, show=False)\n",
    "\n",
    "    def set_values_(self,values:list):\n",
    "        \"\"\"\n",
    "        Set all the fixtures of the channel to the given list of values.\n",
    "\n",
    "        :param values: List of the fixtures values.\n",
    "        \n",
    "        \"\"\"\n",
    "        self.set_multiple_values(self.offset+1,self.offset+self.channel_width,values)\n",
    "    \n",
    "    def reset(self):\n",
    "        \"\"\" Reset the channel to its default state. \"\"\"\n",
    "        self.set_values(RESET_VALUE)"
   ]
  },
  {
   "cell_type": "markdown",
   "id": "098e9b5e-0114-4568-8220-c1388ee73a9d",
   "metadata": {},
   "source": [
    "##### Light Source"
   ]
  },
  {
   "cell_type": "code",
   "execution_count": 5,
   "id": "e65ecbca-c04a-479e-9f75-0b46dec00505",
   "metadata": {},
   "outputs": [],
   "source": [
    "class LightSource:\n",
    "    \"\"\" Abstract Light Source Object \"\"\"\n",
    "    \n",
    "    def __init__(self,name:str,state=DEFAULT_LIGHT_VALUE.copy()):\n",
    "        \"\"\" Instantiate the Light Source, defined by a name and a state. \"\"\"\n",
    "        self.name = name\n",
    "        self.state = state\n",
    "\n",
    "    def set_fixture_value(self,fixture_id:int, value:int):\n",
    "        \"\"\" Define the value of a fixture. \"\"\"\n",
    "\n",
    "    def set_fixture_values(self,fixture_id:int, value:int):\n",
    "        \"\"\" Define the values of all fixtures. \"\"\"\n",
    "\n",
    "    def blink():\n",
    "        \"\"\" Make the Light Source Blink. \"\"\"\n",
    "\n",
    "    def set_rgb(self, values:list):\n",
    "        \"\"\" Define the RGB values. \"\"\"\n",
    "\n",
    "    def turn_off(self):\n",
    "        \"\"\" Turn off the Light Source\"\"\"\n",
    "\n",
    "    def turn_on(self):\n",
    "        \"\"\" Turn on the Light Source\"\"\"\n",
    "\n",
    "    def reset(self):\n",
    "        \"\"\" Reset the Light Source to its default state. \"\"\""
   ]
  },
  {
   "cell_type": "markdown",
   "id": "65f4adb4-6518-402c-b42e-7f111eb9de53",
   "metadata": {},
   "source": [
    "###### Light"
   ]
  },
  {
   "cell_type": "code",
   "execution_count": 6,
   "id": "de44570f-3f0b-4daa-a1ce-e043f48b5fe7",
   "metadata": {},
   "outputs": [],
   "source": [
    "class Light(LightSource):\n",
    "    \"\"\"\n",
    "    Light object class. A light is model by the channel to which\n",
    "    it is linked and a state. The latter is a list containing the \n",
    "    values for each of the fixture in the channel. \n",
    "    \n",
    "    \"\"\"\n",
    "    \n",
    "    def __init__(self,name:str, channel:Channel):\n",
    "        \"\"\"\n",
    "        Create a Light instance.\n",
    "\n",
    "        :param name: String identifier for the light. If the light is used in a Group,\n",
    "                     please be sure to enter unique identifiers.\n",
    "        :param channel: ArtNet channel object to which the light is bound. \n",
    "\n",
    "        \"\"\"\n",
    "        super().__init__(name)\n",
    "        self.group_name = ''\n",
    "        self.channel = channel\n",
    "        self.turn_on()\n",
    "        \n",
    "    def set_fixture_value(self,fixture_id:int,value:int):\n",
    "        \"\"\"\n",
    "        Set the fixture to the given value.\n",
    "\n",
    "        :param fixture_id: Id of the fixture to be set.\n",
    "        :param value: Integer value of the fixture, should be contained in [0,255].\n",
    "        \n",
    "        \"\"\"\n",
    "        new_state = self.state.copy()\n",
    "        new_state[fixture_id-1] = value\n",
    "        self.channel.set_value(fixture_id, value)\n",
    "        self.state = new_state\n",
    "\n",
    "    def set_fixture_values(self,values=[]):\n",
    "        \"\"\"\n",
    "        Set the fixtures to the given list of values.\n",
    "\n",
    "        :param values: Ordered list of values to be set.\n",
    "        \n",
    "        \"\"\"\n",
    "        self.channel.set_values(values)\n",
    "        new_state = values\n",
    "        self.state = new_state\n",
    "\n",
    "    def set_rgb(self, values:list):\n",
    "        \"\"\"\n",
    "        Set the RGB fixtures to the color code given in values.\n",
    "\n",
    "        :param values: List containing the values for the red, green and blue fixtures.\n",
    "        \n",
    "        \"\"\"\n",
    "        for idx, fixture_id in enumerate([RED_ID,GREEN_ID,BLUE_ID]):\n",
    "            self.set_fixture_value(fixture_id,values[idx])\n",
    "\n",
    "    def blink(self,blink_time=0.2,n_repeat=2):\n",
    "        \"\"\" \"\"\"\n",
    "        prev_state = self.state.copy()\n",
    "        self.turn_off()\n",
    "        time.sleep(blink_time)\n",
    "        self.reset()\n",
    "        self.set_fixture_value(WHITE_ID, 255)\n",
    "        for i in range(n_repeat):\n",
    "            time.sleep(blink_time)\n",
    "            self.turn_on()\n",
    "            time.sleep(blink_time)\n",
    "            self.turn_off()\n",
    "        self.set_fixture_values(prev_state)\n",
    "        self.turn_on()\n",
    "\n",
    "    def turn_off(self):\n",
    "        \"\"\" Turn off the light by setting dimmer to 0. \"\"\"\n",
    "        self.set_fixture_value(DIMMER_ID,0)\n",
    "\n",
    "    def turn_on(self):\n",
    "        \"\"\" Turn on the light by setting dimmer to 255. \"\"\"\n",
    "        self.set_fixture_value(DIMMER_ID,255)\n",
    "\n",
    "    def reset(self):\n",
    "        \"\"\" Reset the light to its default state, i.e. zero value for each fixture. \"\"\"\n",
    "        self.turn_off()\n",
    "        self.channel.reset()\n",
    "        new_state = RESET_VALUE\n",
    "        self.state = new_state"
   ]
  },
  {
   "cell_type": "markdown",
   "id": "985a87e0-5b01-46cc-a3d2-8f0c76a4fddd",
   "metadata": {},
   "source": [
    "###### Group"
   ]
  },
  {
   "cell_type": "code",
   "execution_count": 7,
   "id": "26326d2c-e605-4fa6-9f8d-e211a9a72c79",
   "metadata": {},
   "outputs": [],
   "source": [
    "class Group(LightSource):\n",
    "    \"\"\"\n",
    "    Group object class. A group is modeled by a list\n",
    "    of lights. Every action applied to the group\n",
    "    will be executed on all lights present. Each light in the \n",
    "    group should be unique and have a unique name.\n",
    "    \n",
    "    \"\"\"\n",
    "    \n",
    "    def __init__(self,name:str, lights=[]):\n",
    "        \"\"\"\n",
    "        Create a Group instance.\n",
    "\n",
    "        :param name: String identifier for the group of lights.\n",
    "        :param lights: List containing the initial lights of the group,\n",
    "                       empty by default. All lights should be unique.\n",
    "        \n",
    "        \"\"\"\n",
    "        super().__init__(name)\n",
    "        self.lights = []\n",
    "        self.light_names = set()\n",
    "        if len(self.light_names) != len(self.lights):\n",
    "            raise ValueError('Duplicate names in the list of lights provided to the Group constructor')\n",
    "        for l in lights:\n",
    "            self.add_light(l)\n",
    "\n",
    "    def add_light(self,light:Light):\n",
    "        \"\"\"\n",
    "        Add a light to the existing pool. Must be a new unique light.\n",
    "\n",
    "        :param light. Light object to add to the existing pool of lights in the group.\n",
    "        \n",
    "        \"\"\"\n",
    "        if light.name in self.light_names:\n",
    "            raise ValueError('Tried to add a light whose name is already present in the group.')\n",
    "        if light.group_name != '' and light.group_name != self.name:\n",
    "            raise ValueError('Tried to add a light which is already present in another group.') \n",
    "        self.lights.append(light)\n",
    "        light.set_fixture_values(self.state)\n",
    "        light.group_name = self.name\n",
    "        self.light_names = self.light_names.union(set(light.name))\n",
    "\n",
    "    def remove_light(self,light_name:str):\n",
    "        \"\"\"\n",
    "        Remove a light from the existing pool.\n",
    "\n",
    "        :param light_name: Identifier of the light to be removed.\n",
    "        \n",
    "        \"\"\"\n",
    "        light.group_name = ''\n",
    "        self.light_names = self.light_names.difference()\n",
    "        self.lights = [l for l in self.lights if l.name != light_name]\n",
    "        self.light.reset()\n",
    "        \n",
    "        \n",
    "    def set_fixture_value(self, fixture_id:int, value:int):\n",
    "        \"\"\"\n",
    "        Set the given fixture to 'value' for all lights in the group.\n",
    "\n",
    "        :param fixture_id: Id of the fixture to be set.\n",
    "        :param value: Integer value of the fixture, should be contained in [0,255].\n",
    "        \n",
    "        \"\"\"\n",
    "        new_state = self.state.copy()\n",
    "        for l in self.lights:\n",
    "            l.set_fixture_value(fixture_id,value)\n",
    "        new_state[fixture_id-1] = value\n",
    "        self.state = new_state\n",
    "\n",
    "    def set_fixture_values(self,values=[]):\n",
    "        \"\"\"\n",
    "        Set the fixtures to the given list of values for all lights in the group.\n",
    "\n",
    "        :param values: Ordered list of values to be set.\n",
    "        \n",
    "        \"\"\"\n",
    "        for l in self.lights:\n",
    "            l.set_fixture_values(values)\n",
    "        new_state = values\n",
    "        self.state = new_state\n",
    "\n",
    "    def set_rgb(self, values:list):\n",
    "        \"\"\"\n",
    "        Set the RGB fixtures to the color code given in values.\n",
    "\n",
    "        :param values: List containing the values for the red, green and blue fixtures.\n",
    "        \n",
    "        \"\"\"\n",
    "        for idx, fixture_id in enumerate([RED_ID,GREEN_ID,BLUE_ID]):\n",
    "            self.set_fixture_value(fixture_id,values[idx])\n",
    "\n",
    "    def blink(self):\n",
    "        \"\"\" Make all lights in the group blink. \"\"\"\n",
    "        for l in self.lights:\n",
    "            l.blink()\n",
    "\n",
    "    def turn_off(self):\n",
    "        \"\"\" Turn off the light by setting dimmer to 0. \"\"\"\n",
    "        self.set_fixture_value(DIMMER_ID,0)\n",
    "\n",
    "    def turn_on(self):\n",
    "        \"\"\" Turn on the light by setting dimmer to 255. \"\"\"\n",
    "        self.set_fixture_value(DIMMER_ID,255)\n",
    "\n",
    "    def reset(self):\n",
    "        \"\"\" Reset all lights in the group to their default states, i.e. zero value for each fixture. \"\"\"\n",
    "        for l in self.lights:\n",
    "            l.reset()"
   ]
  },
  {
   "cell_type": "markdown",
   "id": "e5b7b051-a78e-4881-afbe-5dd64b6e4086",
   "metadata": {
    "jp-MarkdownHeadingCollapsed": true
   },
   "source": [
    "#### Presets"
   ]
  },
  {
   "cell_type": "code",
   "execution_count": 8,
   "id": "35de2b62-5756-4069-87d4-84ecb182297e",
   "metadata": {},
   "outputs": [],
   "source": [
    "presets = {'base' : \n",
    "            {'base' : {'group_1':[255,0,0,255,180,50,50,255,0,0,0],'group_2':[255,0,0,255,180,50,50,255,0,0,0],\n",
    "                'light_1':[255,0,0,255,180,50,50,255,0,0,0],'light_2':[255,0,0,255,180,50,50,255,0,0,0],\n",
    "                'light_3':[255,0,0,255,180,50,50,255,0,0,0],'light_4':[255,0,0,255,180,50,50,255,0,0,0],\n",
    "                'light_5':[255,0,0,255,180,50,50,255,0,0,0],'light_6':[255,0,0,255,180,50,50,255,0,0,0]},\n",
    "             'violet' : {'group_1':[255,0,0,255,0,255,0,0,0,0,0],'group_2':[255,0,0,255,0,255,0,0,0,0,0],\n",
    "                'light_1':[255,0,0,255,0,255,0,0,0,0,0],'light_2':[255,0,0,255,0,255,0,0,0,0,0],\n",
    "                'light_3':[255,0,0,255,0,255,0,0,0,0,0],'light_4':[255,0,0,255,0,255,0,0,0,0,0],\n",
    "                'light_5':[255,0,0,255,0,255,0,0,0,0,0],'light_6':[255,0,0,255,0,255,0,0,0,0,0]}}}\n"
   ]
  },
  {
   "cell_type": "code",
   "execution_count": 9,
   "id": "f4dc00a4-9436-4128-90af-caf404ed5332",
   "metadata": {},
   "outputs": [],
   "source": [
    "#with open(PRESETS_PATH,'w') as file:\n",
    "#    json.dump(presets,file)"
   ]
  },
  {
   "cell_type": "markdown",
   "id": "f49cdc71-2bd9-46a4-8b54-ce328685a184",
   "metadata": {},
   "source": [
    "#### Config"
   ]
  },
  {
   "cell_type": "code",
   "execution_count": 10,
   "id": "5d8981a9-c317-4d1b-a775-b8928d89e50d",
   "metadata": {},
   "outputs": [],
   "source": [
    "def create_config_structure(ip_address:str,preset:dict,number_of_pages:int=10,\n",
    "                            instance_id:str=\"TKdJlb-N6u8sGy0ufAlx1\") -> dict:\n",
    "    \"\"\" \n",
    "    Create global BitFocus Companion config skeleton. \n",
    "    \n",
    "    :param ip_address: IP address of the artnet module.\n",
    "    :param number_of_pages: Number of button pages to generate.\n",
    "\n",
    "    :return: Config in dictionnary format.\n",
    "    \"\"\"\n",
    "    config = {'version':3,'type':'full','pages':dict([(str(i+1),{\"name\":\"PAGE\"}) for i in range(number_of_pages)]),\n",
    "              'controls':create_controls_config(preset,instance_id),\n",
    "              'instances':{instance_id:{\"instance_type\":\"generic-artnet\",\n",
    "                        \"sortOrder\":1,\"label\":\"artnet\",\"isFirstInit\":False,\n",
    "                        \"config\":{\"host\":ip_address,\"universe\":1,\n",
    "                        \"timer_slow\":1000,\"timer_fast\":40},\"enabled\":True,\n",
    "                        \"lastUpgradeIndex\":0}}}\n",
    "    return config"
   ]
  },
  {
   "cell_type": "code",
   "execution_count": 11,
   "id": "3f068a16-272c-4449-bec3-07be5a8d981c",
   "metadata": {},
   "outputs": [],
   "source": [
    "def generate_config_id(id_length:int) -> str:\n",
    "    \"\"\" Generate ascii random id of given length. \"\"\"\n",
    "    return ''.join(random.choices(string.ascii_uppercase + string.ascii_lowercase, k=id_length))"
   ]
  },
  {
   "cell_type": "code",
   "execution_count": 12,
   "id": "9b8f4f25-fc0a-47a1-9e14-a0600437c6ac",
   "metadata": {},
   "outputs": [],
   "source": [
    "def create_channel_config(channel_id:int,channel_value:int,\n",
    "                            instance_id:str,id_length:int,\n",
    "                            fade_time:int) -> dict:\n",
    "    \"\"\" Create config step for a single channel. \"\"\"\n",
    "    channel_dict = {\"id\":generate_config_id(id_length),\"action\":\"set\",\n",
    "                    \"instance\":instance_id,\n",
    "                    \"options\":{\"channel\":channel_id,\"value\":channel_value,\n",
    "                    \"duration\":fade_time},\"delay\":0}\n",
    "    return channel_dict"
   ]
  },
  {
   "cell_type": "code",
   "execution_count": 13,
   "id": "bb634064-eb56-47ac-b769-13e238635f72",
   "metadata": {},
   "outputs": [],
   "source": [
    "def create_button_config(preset_config:dict,instance_id:str,preset_name:str,\n",
    "                        id_length:int,fade_time:int) -> dict:\n",
    "    \"\"\" \"\"\"\n",
    "    light_values = [v for values in list(preset_config.values())[2:] for v in values]\n",
    "    light_data = [(idx+1,light_values[idx]) for idx in range(len(light_values))]\n",
    "    button_config = {\"type\":\"button\",\n",
    "                     \"style\":{\"text\":preset_name,\"size\":\"auto\",\"png\":None,\n",
    "                              \"alignment\":\"center:top\",\"pngalignment\":\"center:center\",\n",
    "                              \"color\":16777215,\"bgcolor\":0,\"show_topbar\":True},\n",
    "                     \"options\":{\"relativeDelay\":False,\"stepAutoProgress\":True},\n",
    "                     \"feedbacks\":[],\n",
    "                     \"steps\":{\"0\":{\"action_sets\":{\"down\":[\n",
    "                         create_channel_config(idx,value,instance_id,id_length,fade_time) for\n",
    "                         idx,value in light_data],\n",
    "                     \"up\":[]},\"options\":{\"runWhileHeld\":[]}}}}\n",
    "    return button_config\n",
    "    "
   ]
  },
  {
   "cell_type": "code",
   "execution_count": 14,
   "id": "fcf47c23",
   "metadata": {},
   "outputs": [],
   "source": [
    "def create_controls_config(preset:dict,instance_id:str,id_length:int=DEFAULT_ID_LENGTH,\n",
    "                            fade_time:int=DEFAULT_FADE_TIME) -> dict:\n",
    "    \"\"\" \"\"\"\n",
    "    control_dict = dict()\n",
    "    bank_id = 1\n",
    "    button_id = 1\n",
    "    for preset_name, preset_config in preset.items():\n",
    "        button_config = create_button_config(preset_config,instance_id,\n",
    "                                                preset_name,id_length,fade_time)\n",
    "        control_dict[f'bank:{bank_id}-{button_id}'] = copy.deepcopy(button_config)\n",
    "        # If we reached the end of the page\n",
    "        if button_id == MAX_BUTTON_ID:\n",
    "            bank_id +=1\n",
    "            button_id = 0\n",
    "        button_id += 1\n",
    "    return control_dict\n"
   ]
  },
  {
   "cell_type": "code",
   "execution_count": 15,
   "id": "5142161e",
   "metadata": {},
   "outputs": [],
   "source": [
    "with open(PRESETS_PATH) as f:\n",
    "    a = json.load(f)"
   ]
  },
  {
   "cell_type": "code",
   "execution_count": 16,
   "id": "04179938",
   "metadata": {},
   "outputs": [],
   "source": [
    "b = create_config_structure(DEFAULT_IP,a['base'])"
   ]
  },
  {
   "cell_type": "code",
   "execution_count": 17,
   "id": "c1f21f7b",
   "metadata": {},
   "outputs": [],
   "source": [
    "with open(BITFOCUS_CONFIG_PATH,'w') as f:\n",
    "    json.dump(b,f)"
   ]
  },
  {
   "cell_type": "markdown",
   "id": "9a94d879-630a-4ee1-88f8-9ea3daa3a84a",
   "metadata": {
    "jp-MarkdownHeadingCollapsed": true
   },
   "source": [
    "#### GUI"
   ]
  },
  {
   "cell_type": "markdown",
   "id": "8c3a4e6d-a02e-4ec0-92bf-2b793364c80a",
   "metadata": {},
   "source": [
    "##### Layout"
   ]
  },
  {
   "cell_type": "code",
   "execution_count": 18,
   "id": "85b7bb35-8b23-432b-86e2-85cb1c34fb70",
   "metadata": {},
   "outputs": [],
   "source": [
    "def create_preset_layout(presets:dict) -> list:\n",
    "    \"\"\" Create the layout for the preset menu. \"\"\"\n",
    "    layout = []\n",
    "    for preset_group in presets.keys():\n",
    "        layout.append([sg.Button(preset_group,button_color=\"black on SkyBlue1\",key=PRESET_BUTTON_PREFIX+preset_group,s=(90,5))])\n",
    "    return layout"
   ]
  },
  {
   "cell_type": "code",
   "execution_count": 19,
   "id": "6ff04cfa-0211-408a-a9bb-80b77f271a23",
   "metadata": {},
   "outputs": [],
   "source": [
    "def create_preset_selector_layout(presets:dict,preset_group:str) -> list:\n",
    "    \"\"\" Create the layout of the popup window for presets. \"\"\"\n",
    "    layout = [[sg.Text(preset_group,justification='center',font='bold',s=(80,3))]]\n",
    "    for preset_name, preset_state in presets[preset_group].items():\n",
    "        preset_line = []\n",
    "        preset_line.append(sg.Button(preset_name,button_color=\"black on SkyBlue1\",key=f'preset_{preset_name}',s=(12,3)))\n",
    "        for light_source_name, light_source_state in preset_state.items():\n",
    "            if 'light' in light_source_name:\n",
    "                hex_color = sg.rgb(*light_source_state[RED_ID-1:BLUE_ID])\n",
    "                preset_line.append(sg.Text('',background_color=hex_color,s=(12,1)))\n",
    "        layout.append(preset_line.copy())\n",
    "    return layout"
   ]
  },
  {
   "cell_type": "code",
   "execution_count": 20,
   "id": "47bac6f0-68f9-4142-9823-5d4c88215ed8",
   "metadata": {},
   "outputs": [],
   "source": [
    "def create_edit_layout() -> list:\n",
    "    \"\"\" Create the user interface layout using PySimpleGui. \"\"\"\n",
    "    layout = [\n",
    "    [sg.Column([[sg.Text(\"Control Center Group 1\",justification=\"center\",s=(56,1))],\n",
    "                [sg.Button(\"Main\",button_color=\"black on SkyBlue1\",key=\"group_1\",s=(12,5)),\n",
    "                 sg.Text('',background_color='white',s=(0,5)),\n",
    "                 sg.Button(\"Light 1\",button_color=\"black on SkyBlue1\",key=\"light_1\",s=(12,5)),\n",
    "                 sg.Button(\"Light 3\",button_color=\"black on SkyBlue1\",key=\"light_3\",s=(12,5)),\n",
    "                 sg.Button(\"Light 5\",button_color=\"black on SkyBlue1\",key=\"light_5\",s=(12,5))],\n",
    "                [sg.Text(\"Control Center Group 2\",justification=\"center\",s=(56,1))],\n",
    "                [sg.Button(\"Ambiance\",button_color=\"black on gold\",key=\"group_2\",s=(12,5)),\n",
    "                 sg.Text('',background_color='white',s=(0,5)),\n",
    "                 sg.Button(\"Light 2\",button_color=\"black on gold\",key=\"light_2\",s=(12,5)),\n",
    "                 sg.Button(\"Light 4\",button_color=\"black on gold\",key=\"light_4\",s=(12,5)),\n",
    "                 sg.Button(\"Light 6\",button_color=\"black on gold\",key=\"light_6\",s=(12,5))],]),\n",
    "     sg.Column([[sg.Text('Save/Load Controls',justification='center',s=(30,1))],\n",
    "                [sg.Text('',s=(8,0)),\n",
    "                 sg.Button(\"Load Preset\",button_color=\"black on SkyBlue1\",key=\"load\",s=(12,5)),\n",
    "                 sg.Text('',s=(8,0))],\n",
    "                [sg.Text('',s=(0,1))],\n",
    "                [sg.Text('',s=(8,0)),\n",
    "                 sg.Button(\"Save\",button_color=\"black on SkyBlue1\",key=\"save\",s=(12,5)),\n",
    "                 sg.Text('',s=(8,0))]])],\n",
    "    [sg.Text(\"Light Source Under Control: \",justification='center',size=91,key='target')],\n",
    "    [sg.Column([[sg.Image('../img/color_wheel.png',size=(512,512), enable_events=True, key='color_wheel')]]),\n",
    "     sg.Column([[sg.Text('Red', s=(6,1)),sg.Slider((0,255), default_value=0, resolution=1, enable_events=True,\n",
    "                         orientation='horizontal', tick_interval=255, key='slider_red')],\n",
    "                [sg.Text('Green', s=(6,1)),sg.Slider((0,255), default_value=0, resolution=1, enable_events=True,\n",
    "                         orientation='horizontal', tick_interval=255, key='slider_green')],\n",
    "                [sg.Text('Blue', s=(6,1)),sg.Slider((0,255), default_value=0, resolution=1, enable_events=True,\n",
    "                         orientation='horizontal', tick_interval=255, key='slider_blue')],\n",
    "                [sg.Text('White', s=(6,1)),sg.Slider((0,255), default_value=0, resolution=1, enable_events=True,\n",
    "                         orientation='horizontal', tick_interval=255, key='slider_white')],\n",
    "                [sg.Text('Amber', s=(6,1)),sg.Slider((0,255), default_value=0, resolution=1, enable_events=True,\n",
    "                         orientation='horizontal', tick_interval=255, key='slider_amber')],\n",
    "                [sg.Text('UV', s=(6,1)),sg.Slider((0,255), default_value=0, resolution=1, enable_events=True,\n",
    "                         orientation='horizontal', tick_interval=255, key='slider_uv')],\n",
    "                [sg.Text('Dimmer', s=(6,1)),sg.Slider((0,255), default_value=0, resolution=1, enable_events=True,\n",
    "                         orientation='horizontal', tick_interval=255, key='slider_dimmer')]])]]\n",
    "    return layout"
   ]
  },
  {
   "cell_type": "code",
   "execution_count": 21,
   "id": "a3a1afca-a6db-45dc-8ada-9ae17782c158",
   "metadata": {},
   "outputs": [],
   "source": [
    "def create_UI_layout(presets:dict) -> list:\n",
    "    \"\"\" Create the user interface layout using PySimpleGui. \"\"\"\n",
    "    layout = [[sg.TabGroup([[\n",
    "                sg.Tab('Presets',create_preset_layout(presets)),\n",
    "                sg.Tab('Edit',create_edit_layout())]])]]\n",
    "    return layout"
   ]
  },
  {
   "cell_type": "markdown",
   "id": "b83505da-9e22-4c56-b06d-96f828ce6e9d",
   "metadata": {},
   "source": [
    "##### Helpers"
   ]
  },
  {
   "cell_type": "code",
   "execution_count": 22,
   "id": "2516e107-681e-45f4-8531-8240fc27d16a",
   "metadata": {},
   "outputs": [],
   "source": [
    "def update_sliders(window:sg.Window, light_object:LightSource):\n",
    "    \"\"\" Update the sliders with the light source state. \"\"\"\n",
    "    for name in list(LIGHT_FIXTURE_EVENTS):\n",
    "        fixture_id = FIXTURE_TO_ID_DICT[name.split('_')[-1]]\n",
    "        window[name].update(light_object.state[fixture_id-1])"
   ]
  },
  {
   "cell_type": "code",
   "execution_count": 23,
   "id": "70acd71b-a3ed-4b4f-a00c-ca551d3fd985",
   "metadata": {},
   "outputs": [],
   "source": [
    "def update_button(window:sg.Window, light_object:LightSource):\n",
    "    \"\"\" Update the button with the light source state. \"\"\"\n",
    "    button_id = light_object.name\n",
    "    hex_color = sg.rgb(*light_object.state[RED_ID-1:BLUE_ID])\n",
    "    window[button_id].update(button_color=hex_color)"
   ]
  },
  {
   "cell_type": "code",
   "execution_count": 24,
   "id": "b09f0040-bc03-4c5c-bf61-ae715a0082d9",
   "metadata": {},
   "outputs": [],
   "source": [
    "def update_buttons(window:sg.Window, light_object_dict:dict):\n",
    "    \"\"\" Update all buttons with the light sources state. \"\"\"\n",
    "    for light_object in light_object_dict.values():\n",
    "        update_button(window,light_object)"
   ]
  },
  {
   "cell_type": "code",
   "execution_count": 25,
   "id": "14174794-82bf-4414-a45d-89dbb9f132f6",
   "metadata": {},
   "outputs": [],
   "source": [
    "def save_presets(presets:dict,presets_path:str):\n",
    "    \"\"\" Save the presets given as a dictionnary in json format. \"\"\"\n",
    "    with open(presets_path,'w') as file:\n",
    "        json.dump(presets,file)"
   ]
  },
  {
   "cell_type": "markdown",
   "id": "074138bc-3f4b-494f-992c-f827796a67af",
   "metadata": {},
   "source": [
    "##### Process"
   ]
  },
  {
   "cell_type": "code",
   "execution_count": 26,
   "id": "20d4ee2f-d411-4fd3-a8ae-de45d2af4388",
   "metadata": {},
   "outputs": [],
   "source": [
    "def preset_process(presets:dict,preset_group:str,light_object_dict:dict):\n",
    "    \"\"\" \"\"\"\n",
    "    layout = create_preset_selector_layout(presets,preset_group)\n",
    "    preset_window = sg.Window('Preset', layout, background_color='black', resizable=False).finalize()\n",
    "    preset_selected = False\n",
    "    while True:\n",
    "        # Update GUI\n",
    "        event, values = preset_window.read(timeout=1000)\n",
    "        if event == sg.WIN_CLOSED:\n",
    "            break \n",
    "        elif event != '__TIMEOUT__':\n",
    "            preset_state = presets[preset_group][event.split('preset_')[-1]]\n",
    "            for light_source_name, state in preset_state.items():\n",
    "                light_object_dict[light_source_name].set_fixture_values(state)\n",
    "                light_object_dict[light_source_name].turn_on()\n",
    "            preset_selected = True\n",
    "            break\n",
    "    preset_window.close();\n",
    "    return preset_selected"
   ]
  },
  {
   "cell_type": "code",
   "execution_count": 27,
   "id": "a357461b-eee7-49a8-9eca-176133c1987d",
   "metadata": {},
   "outputs": [],
   "source": [
    "def save_preset_process(presets:dict,light_object_dict:dict,presets_path:str):\n",
    "    \"\"\" \"\"\"\n",
    "    layout = create_preset_layout(presets)\n",
    "    preset_window = sg.Window('Save Preset', layout, background_color='black', resizable=False).finalize()\n",
    "    while True:\n",
    "        # Update GUI\n",
    "        event, values = preset_window.read(timeout=1000)\n",
    "        if event == sg.WIN_CLOSED:\n",
    "            break \n",
    "        elif event != '__TIMEOUT__':\n",
    "            text = sg.popup_get_text('Entrez nom du preset', title=\"Textbox\")\n",
    "            if text != None and text != '':\n",
    "                if text in presets[event.split(PRESET_BUTTON_PREFIX)[-1]].keys():\n",
    "                    sg.popup_auto_close('Le nom du preset existe déjà, veuillez en entrer un nouveau.')\n",
    "                else:\n",
    "                    presets[event.split(PRESET_BUTTON_PREFIX)[-1]][text] = dict([(name,l.state) for name,l in light_object_dict.items()])\n",
    "                    save_presets(presets,presets_path)\n",
    "                    break\n",
    "    preset_window.close();"
   ]
  },
  {
   "cell_type": "code",
   "execution_count": 28,
   "id": "5cbda9bc-58c5-4479-b307-f06ba7e72b55",
   "metadata": {},
   "outputs": [],
   "source": [
    "def load_preset_process(window:sg.Window,presets:dict,light_object_dict:dict):\n",
    "    \"\"\" \"\"\"\n",
    "    layout = create_preset_layout(presets)\n",
    "    preset_window = sg.Window('Save Preset', layout, background_color='black', resizable=False).finalize()\n",
    "    while True:\n",
    "        # Update GUI\n",
    "        event, values = preset_window.read(timeout=1000)\n",
    "        if event == sg.WIN_CLOSED:\n",
    "            break \n",
    "        elif event != '__TIMEOUT__':\n",
    "            preset_selected = preset_process(presets,event.split(PRESET_BUTTON_PREFIX)[-1],light_object_dict)\n",
    "            if preset_selected:\n",
    "                update_buttons(window,light_object_dict)\n",
    "            break\n",
    "    preset_window.close();"
   ]
  },
  {
   "cell_type": "code",
   "execution_count": 29,
   "id": "1fd83115",
   "metadata": {},
   "outputs": [],
   "source": [
    "def select_config(presets:dict):\n",
    "    \"\"\" \"\"\"\n",
    "    layout = create_preset_layout(presets)\n",
    "    preset_window = sg.Window('Save Preset', layout, background_color='black', resizable=False).finalize()\n",
    "    while True:\n",
    "        # Update GUI\n",
    "        event, values = preset_window.read(timeout=1000)\n",
    "        if event == sg.WIN_CLOSED:\n",
    "            break \n",
    "        elif event != '__TIMEOUT__':\n",
    "            preset_name = event.split(PRESET_BUTTON_PREFIX)[-1]\n",
    "            bitfocus_config = create_config_structure(DEFAULT_IP,a[preset_name])\n",
    "            with open(BITFOCUS_CONFIG_FOLDER+preset_name+'.json','w') as f:\n",
    "                json.dump(bitfocus_config,f)\n",
    "            break\n",
    "    preset_window.close();"
   ]
  },
  {
   "cell_type": "code",
   "execution_count": 30,
   "id": "7048ef6e-46d4-4dfc-aeb9-1e57b006c2be",
   "metadata": {},
   "outputs": [],
   "source": [
    "def UI_process(light_object_dict:dict,presets:dict,presets_path:str):\n",
    "    \"\"\" \n",
    "    User interface process, handling user actions. \n",
    "    \n",
    "    :param light_object_dict: Dictionnary with event_id as key and \n",
    "                              corresponding light object as value.\n",
    "    \n",
    "    \"\"\"\n",
    "    layout = create_UI_layout(presets)\n",
    "    window = sg.Window(\"Delta Control\", layout, background_color='black', resizable=False).finalize()\n",
    "    window.bind('<Motion>', 'Motion')\n",
    "    position = pyautogui.position()\n",
    "    light_object = None\n",
    "    while True:\n",
    "        # Update GUI\n",
    "        event, values = window.read(timeout=1000)\n",
    "        if event == sg.WIN_CLOSED:\n",
    "            select_config(presets)\n",
    "            for light_object in light_object_dict.values():\n",
    "                light_object.turn_off()\n",
    "            break\n",
    "        elif PRESET_BUTTON_PREFIX in event:\n",
    "            preset_group = event.split(PRESET_BUTTON_PREFIX)[-1]\n",
    "            preset_selected = preset_process(presets,preset_group,light_object_dict)\n",
    "            if preset_selected:\n",
    "                update_buttons(window,light_object_dict)\n",
    "        elif event == 'save':\n",
    "            save_preset_process(presets,light_object_dict,presets_path)\n",
    "        elif event == 'load':\n",
    "            load_preset_process(window, presets,light_object_dict)\n",
    "        elif event == 'color_wheel' and light_object != None:\n",
    "            e = window.user_bind_event\n",
    "            pixel = ImageGrab.grab(bbox=(\n",
    "                e.x_root, e.y_root, e.x_root+1, e.y_root+1)).getdata()[0]\n",
    "            light_object.set_rgb(pixel)\n",
    "            update_sliders(window,light_object)\n",
    "            update_button(window,light_object)\n",
    "        elif event in LIGHT_FIXTURE_EVENTS and light_object != None:\n",
    "            fixture_id = FIXTURE_TO_ID_DICT[event.split('_')[-1]]\n",
    "            light_object.set_fixture_value(fixture_id,int(values[event]))\n",
    "            update_button(window,light_object)\n",
    "        elif event in LIGHT_SELECTION_EVENTS:\n",
    "            light_object = light_object_dict[event]\n",
    "            window['target'].update('Light Source Under Control: '+event)\n",
    "            update_sliders(window,light_object)\n",
    "            update_button(window,light_object)\n",
    "            #light_object.blink()\n",
    "    window.close();"
   ]
  },
  {
   "cell_type": "markdown",
   "id": "6565d82a-f654-484a-b0c9-92705515873a",
   "metadata": {},
   "source": [
    "#### Pipeline"
   ]
  },
  {
   "cell_type": "code",
   "execution_count": 31,
   "id": "247d4da6-abb2-41e4-97e8-bae7eb840a4c",
   "metadata": {},
   "outputs": [],
   "source": [
    "def live_color_picker(ip:str, num_lights:int, groups_mapping=DEFAULT_GROUPS,\n",
    "                      packet_size=DEFAULT_PACKET_SIZE, fps=DEFAULT_FPS,\n",
    "                      even_packet_size = ENFORCE_EVEN_PACKET, broadcast=ENFORCE_BROADCAST,\n",
    "                      universe_id=DEFAULT_UNIVERSE_ID,channel_width=DEFAULT_CHANNEL_WIDTH,\n",
    "                      presets_path=PRESETS_PATH):\n",
    "    \"\"\"\n",
    "    Pipeline to select color of each light source in real time.\n",
    "\n",
    "    :param ip: Ip of the ArtNet receiving device.\n",
    "    :param num_lights: Number of lights to be configured. \n",
    "    :param groups_mapping: Mapping between group name and set of lights.\n",
    "    :param packet_size: Size of ArtNet packets.\n",
    "    :param fps: Refresh rate of the server.\n",
    "    :param even_packet_size: Boolean variable to enforce even packets (May be\n",
    "                             required by the receiver).\n",
    "    :param broadcast: Boolean variable to allow broadcast in the subnet.\n",
    "    :param universe_id: Identifier of the universe with which we want to communicate.\n",
    "    :param channel_width: Number of fixtures per channel.\n",
    "    :param presets_path: Path to the JSON file containing the presets.\n",
    "    \n",
    "    \"\"\"\n",
    "    # Init connections\n",
    "    server = StupidArtnet(ip,universe_id,packet_size,fps,even_packet_size,broadcast)\n",
    "    with open(PRESETS_PATH,'r') as file:\n",
    "        presets = json.load(file)\n",
    "   # Lights\n",
    "    lights = []\n",
    "    for i in range(num_lights):\n",
    "        channel_start = DEFAULT_CHANNEL_START_ID + i*channel_width\n",
    "        lights.append(Light(name='light_'+str(i+1),channel=Channel(server,channel_start,channel_width)))\n",
    "    # Groups\n",
    "    groups = []\n",
    "    for group_name, group_lights_names in groups_mapping.items():\n",
    "        group_lights = [l for l in lights if l.name in group_lights_names]\n",
    "        groups.append(Group(name=group_name, lights=group_lights))\n",
    "    # light Object Mapping\n",
    "    light_object_dict = [('group_'+str(i+1),groups[i]) for i in range(len(groups))]\n",
    "    light_object_dict.extend([('light_'+str(i+1),lights[i]) for i in range(num_lights)])\n",
    "    light_object_dict = dict(light_object_dict)\n",
    "    # UI Loop\n",
    "    UI_process(light_object_dict,presets,presets_path)"
   ]
  },
  {
   "cell_type": "markdown",
   "id": "7b2e5194-cbb5-41f5-bbb9-676075fd0d0c",
   "metadata": {},
   "source": [
    "### Software"
   ]
  },
  {
   "cell_type": "code",
   "execution_count": 32,
   "id": "e1fdbfcf-6d5a-4841-8783-033f08881638",
   "metadata": {
    "scrolled": true
   },
   "outputs": [],
   "source": [
    "live_color_picker(DEFAULT_IP,6)"
   ]
  },
  {
   "cell_type": "markdown",
   "id": "1c00301b-3994-430c-ae70-bef869c808dc",
   "metadata": {},
   "source": [
    "---"
   ]
  },
  {
   "cell_type": "markdown",
   "id": "6f9d8561",
   "metadata": {},
   "source": [
    "### Test\n"
   ]
  },
  {
   "cell_type": "code",
   "execution_count": null,
   "id": "80c54536-e423-47fd-a827-c3cd27996338",
   "metadata": {},
   "outputs": [],
   "source": [
    "server = StupidArtnet(DEFAULT_IP, 1, 512, 30, True, True)"
   ]
  },
  {
   "cell_type": "code",
   "execution_count": null,
   "id": "c6ef1a9e-fb1a-48c6-a2b9-c70e20872ca3",
   "metadata": {},
   "outputs": [],
   "source": [
    "c = Channel(server,23,11)"
   ]
  },
  {
   "cell_type": "code",
   "execution_count": null,
   "id": "764ef307-1f2c-46f9-ba14-42dfd2310df0",
   "metadata": {},
   "outputs": [],
   "source": [
    "l = Light('test',c)"
   ]
  },
  {
   "cell_type": "code",
   "execution_count": null,
   "id": "0ddbba69-f467-4670-898d-ad31e32b79b3",
   "metadata": {},
   "outputs": [],
   "source": [
    "l.set_rgb([255,0,255])"
   ]
  },
  {
   "cell_type": "code",
   "execution_count": null,
   "id": "8f16adf0-5346-428a-a287-19e0af3bc067",
   "metadata": {},
   "outputs": [],
   "source": [
    "l.turn_on()"
   ]
  },
  {
   "cell_type": "code",
   "execution_count": null,
   "id": "06bf7ad9-7cd7-4063-a4a7-97372c07ae18",
   "metadata": {},
   "outputs": [],
   "source": [
    "l.turn_off()"
   ]
  },
  {
   "cell_type": "code",
   "execution_count": null,
   "id": "48b24495-c9f3-4c38-9672-7ba904f5e7ff",
   "metadata": {},
   "outputs": [],
   "source": [
    "l.blink(n_repeat=2)"
   ]
  },
  {
   "cell_type": "markdown",
   "id": "4b57c8bb-8e99-4e93-b70c-baa2fa4652fa",
   "metadata": {
    "jp-MarkdownHeadingCollapsed": true
   },
   "source": [
    "### Archive"
   ]
  },
  {
   "cell_type": "markdown",
   "id": "b41cf65f",
   "metadata": {},
   "source": [
    "#### Config"
   ]
  },
  {
   "cell_type": "code",
   "execution_count": null,
   "id": "3bf664d6",
   "metadata": {},
   "outputs": [],
   "source": [
    "def create_button_config(light_source_dict:dict,instance_id:str,preset_name:str,\n",
    "                        id_length:int,fade_time:int=50) -> dict:\n",
    "    \"\"\" \"\"\"\n",
    "    light_dict = dict([(light_name, light_object) for light_name,light_object in \n",
    "                        light_source_dict.items() if 'group' not in light_name])\n",
    "    button_config = {\"type\":\"button\",\n",
    "                     \"style\":{\"text\":preset_name,\"size\":\"auto\",\"png\":Null,\n",
    "                              \"alignment\":\"center:top\",\"pngalignment\":\"center:center\",\n",
    "                              \"color\":16777215,\"bgcolor\":0,\"show_topbar\":True},\n",
    "                     \"options\":{\"relativeDelay\":False,\"stepAutoProgress\":True},\n",
    "                     \"feedbacks\":[],\n",
    "                     \"steps\":{\"0\":{\"action_sets\":{\"down\":[\n",
    "                         create_channel_config(light_object,i+1,instance_id,id_length,fade_time) for\n",
    "                         i in range(len(light_object.state)) for light_object\n",
    "                         in light_dict.values()],\n",
    "                     \"up\":[]},\"options\":{\"runWhileHeld\":[]}}}}\n",
    "    return button_config\n",
    "    "
   ]
  },
  {
   "cell_type": "code",
   "execution_count": null,
   "id": "e18a736d",
   "metadata": {},
   "outputs": [],
   "source": [
    "def create_channel_config(light_object:LightSource,fixture_id:int,instance_id:str,id_length:int,fade_time:int) -> dict:\n",
    "    \"\"\" Create config step for a single channel. \"\"\"\n",
    "    channel_dict = {\"id\":generate_config_id(id_length),\"action\":\"set\",\n",
    "                    \"instance\":instance_id,\n",
    "                    \"options\":{\"channel\":light_object.channel.offset+fixture_id,\"value\":light_object.state[fixture_id-1],\n",
    "                    \"duration\":fade_time},\"delay\":0}\n",
    "    return channel_dict"
   ]
  },
  {
   "cell_type": "markdown",
   "id": "c3d16220-78ac-4a18-aa59-6eacbe14b20e",
   "metadata": {
    "jp-MarkdownHeadingCollapsed": true
   },
   "source": [
    "#### Color Picker"
   ]
  },
  {
   "cell_type": "code",
   "execution_count": null,
   "id": "3a195f2d-2d50-4138-95dd-f9b5766cf5a5",
   "metadata": {},
   "outputs": [],
   "source": [
    "def color_popup(light_object:LightSource):\n",
    "    \"\"\"\n",
    "    Popup window to select the color of the given light object.\n",
    "\n",
    "    :param light_object: LightSource which will be controlled.\n",
    "    \n",
    "    \"\"\"\n",
    "    SCREEN = pygame.display.set_mode((400, 400))\n",
    "    SCREEN.fill(pygame.Color(0, 0, 0))\n",
    "    pygame.display.init()\n",
    "    pygame.display.update()\n",
    "    pygame.init()\n",
    "    pygame.display.set_caption('Colour Picking App')\n",
    "\n",
    "    \n",
    "    ui_manager = pygame_gui.UIManager((400, 400))\n",
    "    colour_picker = None                                    \n",
    "    current_colour = pygame.Color(0, 0, 0)\n",
    "    \n",
    "    clock = pygame.time.Clock()\n",
    "    begin_loop = True\n",
    "    \n",
    "    while True:\n",
    "        time_delta = clock.tick(60) / 1000\n",
    "        event_list = pygame.event.get()\n",
    "        if begin_loop == True:\n",
    "            event_list.append(Event(1,{'state':1,'gain':1}))\n",
    "        for event in event_list:\n",
    "            if begin_loop == True:\n",
    "                colour_picker = UIColourPickerDialog(pygame.Rect(0, 0, 400, 400),\n",
    "                                                    ui_manager,\n",
    "                                                    window_title=f\"Change Colour of {light_object.name}\",\n",
    "                                                    initial_colour=current_colour,\n",
    "                                                    light_object=light_object)\n",
    "                begin_loop = False\n",
    "            if (event.type == pygame.QUIT or event.type == pygame_gui.UI_COLOUR_PICKER_COLOUR_PICKED\n",
    "                or (event.type == 1 and event.gain == 0)):\n",
    "                pygame.quit()\n",
    "                time.sleep(1)\n",
    "                return\n",
    "            ui_manager.process_events(event)\n",
    "            \n",
    "        ui_manager.update(time_delta)\n",
    "        ui_manager.draw_ui(SCREEN)\n",
    "        pygame.display.update()\n",
    "    \n",
    "    pygame.quit()"
   ]
  },
  {
   "cell_type": "code",
   "execution_count": null,
   "id": "94d1bb29-9c3e-4d7e-b82c-da8867af7aa4",
   "metadata": {},
   "outputs": [],
   "source": [
    "def color_popup(light_object:LightSource):\n",
    "    \"\"\"\n",
    "    Popup window to select the color of the given light object.\n",
    "\n",
    "    :param light_object: LightSource which will be controlled.\n",
    "    \n",
    "    \"\"\"\n",
    "    SCREEN = pygame.display.set_mode((400, 400))\n",
    "    SCREEN.fill(pygame.Color(0, 0, 0))\n",
    "    pygame.display.init()\n",
    "    pygame.display.update()\n",
    "    pygame.init()\n",
    "\n",
    "    pygame.display.set_caption('Colour Picking App')\n",
    "    \n",
    "    \n",
    "    ui_manager = pygame_gui.UIManager((400, 400))\n",
    "    #background = pygame.Surface((400, 400))\n",
    "    #background.fill(\"#3a3b3c\")\n",
    "    \"\"\"\n",
    "    colour_picker_button = UIButton(relative_rect=pygame.Rect(-180, -60, 150, 30),\n",
    "                                    text='Pick Colour',\n",
    "                                    manager=ui_manager,\n",
    "                                    anchors={'left': 'right',\n",
    "                                            'right': 'right',\n",
    "                                            'top': 'bottom',\n",
    "                                            'bottom': 'bottom'})\n",
    "\n",
    "    \"\"\"\n",
    "    colour_picker = None                                    \n",
    "    current_colour = pygame.Color(0, 0, 0)\n",
    "    #picked_colour_surface = pygame.Surface((400, 400))\n",
    "    #picked_colour_surface.fill(current_colour)\n",
    "    \n",
    "    clock = pygame.time.Clock()\n",
    "    begin_loop = True\n",
    "\n",
    "    while True:\n",
    "        time_delta = clock.tick(60) / 1000\n",
    "        event_list = pygame.event.get()\n",
    "        if begin_loop == True:\n",
    "            event_list.append(Event(1,{'state':1,'gain':1}))\n",
    "        for event in event_list:\n",
    "            if begin_loop == True:\n",
    "                colour_picker = UIColourPickerDialog(pygame.Rect(0, 0, 400, 400),\n",
    "                                                    ui_manager,\n",
    "                                                    window_title=\"Change Colour...\",\n",
    "                                                    initial_colour=current_colour,\n",
    "                                                    light_object=light_object)\n",
    "                #colour_picker_button.disable()\n",
    "                begin_loop = False\n",
    "            if event.type == pygame.QUIT:\n",
    "                pygame.quit()\n",
    "                break\n",
    "            \"\"\"\n",
    "            if event.type == pygame_gui.UI_BUTTON_PRESSED and event.ui_element == colour_picker_button:\n",
    "                colour_picker = UIColourPickerDialog(pygame.Rect(0, 0, 400, 400),\n",
    "                                                    ui_manager,\n",
    "                                                    window_title=\"Change Colour...\",\n",
    "                                                    initial_colour=current_colour,\n",
    "                                                    light_object=light_object)\n",
    "                colour_picker_button.disable()\n",
    "            \"\"\"\n",
    "            if event.type == pygame_gui.UI_COLOUR_PICKER_COLOUR_PICKED:\n",
    "                pygame.quit()\n",
    "                return\n",
    "                #current_colour = event.colour\n",
    "                #picked_colour_surface.fill(current_colour)\n",
    "            if event.type == 1:\n",
    "                if event.gain == 0:\n",
    "                    pygame.quit()\n",
    "                    return\n",
    "            if event.type == pygame_gui.UI_WINDOW_CLOSE:\n",
    "                #colour_picker_button.enable()\n",
    "                colour_picker = None\n",
    "            \n",
    "            ui_manager.process_events(event)\n",
    "            \n",
    "        ui_manager.update(time_delta)\n",
    "    \n",
    "        #SCREEN.blit(background, (0, 0))\n",
    "        #SCREEN.blit(picked_colour_surface, (200, 100))\n",
    "    \n",
    "        ui_manager.draw_ui(SCREEN)\n",
    "    \n",
    "        pygame.display.update()\n",
    "    \n",
    "    pygame.quit()"
   ]
  }
 ],
 "metadata": {
  "kernelspec": {
   "display_name": "Python 3 (ipykernel)",
   "language": "python",
   "name": "python3"
  },
  "language_info": {
   "codemirror_mode": {
    "name": "ipython",
    "version": 3
   },
   "file_extension": ".py",
   "mimetype": "text/x-python",
   "name": "python",
   "nbconvert_exporter": "python",
   "pygments_lexer": "ipython3",
   "version": "3.8.17"
  }
 },
 "nbformat": 4,
 "nbformat_minor": 5
}
